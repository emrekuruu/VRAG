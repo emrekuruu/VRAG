{
 "cells": [
  {
   "cell_type": "code",
   "execution_count": 42,
   "metadata": {},
   "outputs": [],
   "source": [
    "import os\n",
    "from concurrent.futures import ProcessPoolExecutor, ThreadPoolExecutor\n",
    "import pandas as pd \n",
    "\n",
    "from datasets import load_dataset\n",
    "import voyageai\n",
    "\n",
    "from langchain.vectorstores import Chroma\n",
    "from langchain_core.messages import HumanMessage\n",
    "from langchain_openai import ChatOpenAI\n",
    "from langchain.embeddings import OpenAIEmbeddings\n",
    "from langchain_experimental.text_splitter import SemanticChunker\n",
    "from langchain.text_splitter import RecursiveCharacterTextSplitter\n",
    "from langchain_core.documents import Document\n",
    "\n",
    "from langchain_core.runnables import RunnableLambda\n",
    "from langchain.prompts import PromptTemplate\n",
    "from pydantic import BaseModel, Field"
   ]
  },
  {
   "cell_type": "code",
   "execution_count": 2,
   "metadata": {},
   "outputs": [],
   "source": [
    "with open(\"openai_api_key.txt\", \"r\") as file:\n",
    "    openai_key = file.read().strip()\n",
    "\n",
    "with open(\"voyage_api_key.txt\", \"r\") as file:\n",
    "    voyage_api_key = file.read().strip()\n",
    "\n",
    "os.environ[\"OPENAI_API_KEY\"] = openai_key"
   ]
  },
  {
   "cell_type": "markdown",
   "metadata": {},
   "source": [
    "## Dataset"
   ]
  },
  {
   "cell_type": "code",
   "execution_count": 3,
   "metadata": {},
   "outputs": [],
   "source": [
    "# Load the dataset\n",
    "dataset = load_dataset(\"ibm/finqa\", trust_remote_code=True)\n",
    "\n",
    "# Access the splits\n",
    "data = dataset['train'].to_pandas()\n",
    "validation_data = dataset['validation'].to_pandas()\n",
    "test_data = dataset['test'].to_pandas()\n",
    "\n",
    "data = pd.concat([data, validation_data, test_data])\n",
    "data.reset_index(drop=True, inplace=True)\n",
    "data = data[[\"id\", \"pre_text\", \"table\", \"post_text\", \"question\", \"answer\"]]"
   ]
  },
  {
   "cell_type": "code",
   "execution_count": 4,
   "metadata": {},
   "outputs": [],
   "source": [
    "data[\"Company\"] = [row[0] for row in data.id.str.split(\"/\")]\n",
    "data[\"Year\"] = [row[1] for row in data.id.str.split(\"/\")]"
   ]
  },
  {
   "cell_type": "code",
   "execution_count": 5,
   "metadata": {},
   "outputs": [],
   "source": [
    "table = list(data.iloc[0].table)"
   ]
  },
  {
   "cell_type": "code",
   "execution_count": 6,
   "metadata": {},
   "outputs": [],
   "source": [
    "def json_to_markdown(json_data):\n",
    "    # Create a DataFrame from the JSON data\n",
    "    df = pd.DataFrame(json_data[1:], columns=json_data[0])\n",
    "\n",
    "    # Convert the DataFrame to a Markdown table\n",
    "    return df.to_markdown(index=False)"
   ]
  },
  {
   "cell_type": "code",
   "execution_count": 7,
   "metadata": {},
   "outputs": [],
   "source": [
    "data[\"full_text\"] = data.apply(\n",
    "    lambda row: \"\\n\".join(row.pre_text) + \"\\n\\n\\n\\n\" + json_to_markdown(list(row.table)) + \"\\n\\n\\n\\n\" + \"\\n\".join(row.post_text),\n",
    "    axis=1\n",
    ")\n",
    "\n",
    "data.drop(columns=[\"pre_text\", \"table\", \"post_text\"], inplace=True)"
   ]
  },
  {
   "cell_type": "code",
   "execution_count": 8,
   "metadata": {},
   "outputs": [
    {
     "name": "stdout",
     "output_type": "stream",
     "text": [
      "abiomed , inc .\n",
      "and subsidiaries notes to consolidated financial statements 2014 ( continued ) note 8 .\n",
      "stock award plans and stock-based compensation ( continued ) restricted stock and restricted stock units the following table summarizes restricted stock and restricted stock unit activity for the fiscal year ended march 31 , 2012 : number of shares ( in thousands ) weighted average grant date fair value ( per share ) .\n",
      "\n",
      "\n",
      "\n",
      "|                                                                  | number of shares ( in thousands )   | weighted average grant date fair value ( per share )   |\n",
      "|:-----------------------------------------------------------------|:------------------------------------|:-------------------------------------------------------|\n",
      "| restricted stock and restricted stock units at beginning of year | 407                                 | $ 9.84                                                 |\n",
      "| granted                                                          | 607                                 | 18.13                                                  |\n",
      "| vested                                                           | -134 ( 134 )                        | 10.88                                                  |\n",
      "| forfeited                                                        | -9 ( 9 )                            | 13.72                                                  |\n",
      "| restricted stock and restricted stock units at end of year       | 871                                 | $ 15.76                                                |\n",
      "\n",
      "\n",
      "\n",
      "the remaining unrecognized compensation expense for outstanding restricted stock and restricted stock units , including performance-based awards , as of march 31 , 2012 was $ 7.1 million and the weighted-average period over which this cost will be recognized is 2.2 years .\n",
      "the weighted average grant-date fair value for restricted stock and restricted stock units granted during the years ended march 31 , 2012 , 2011 , and 2010 was $ 18.13 , $ 10.00 and $ 7.67 per share , respectively .\n",
      "the total fair value of restricted stock and restricted stock units vested in fiscal years 2012 , 2011 , and 2010 was $ 1.5 million , $ 1.0 million and $ 0.4 million , respectively .\n",
      "performance-based awards included in the restricted stock and restricted stock units activity discussed above are certain awards granted in fiscal years 2012 , 2011 and 2010 that vest subject to certain performance-based criteria .\n",
      "in june 2010 , 311000 shares of restricted stock and a performance-based award for the potential issuance of 45000 shares of common stock were issued to certain executive officers and members of senior management of the company , all of which would vest upon achievement of prescribed service milestones by the award recipients and performance milestones by the company .\n",
      "during the year ended march 31 , 2011 , the company determined that it met the prescribed performance targets and a portion of these shares and stock options vested .\n",
      "the remaining shares will vest upon satisfaction of prescribed service conditions by the award recipients .\n",
      "during the three months ended june 30 , 2011 , the company determined that it should have been using the graded vesting method instead of the straight-line method to expense stock-based compensation for the performance-based awards issued in june 2010 .\n",
      "this resulted in additional stock based compensation expense of approximately $ 0.6 million being recorded during the three months ended june 30 , 2011 that should have been recorded during the year ended march 31 , 2011 .\n",
      "the company believes that the amount is not material to its march 31 , 2011 consolidated financial statements and therefore recorded the adjustment in the quarter ended june 30 , 2011 .\n",
      "during the three months ended june 30 , 2011 , performance-based awards of restricted stock units for the potential issuance of 284000 shares of common stock were issued to certain executive officers and members of the senior management , all of which would vest upon achievement of prescribed service milestones by the award recipients and revenue performance milestones by the company .\n",
      "as of march 31 , 2012 , the company determined that it met the prescribed targets for 184000 shares underlying these awards and it believes it is probable that the prescribed performance targets will be met for the remaining 100000 shares , and the compensation expense is being recognized accordingly .\n",
      "during the year ended march 31 , 2012 , the company has recorded $ 3.3 million in stock-based compensation expense for equity awards in which the prescribed performance milestones have been achieved or are probable of being achieved .\n",
      "the remaining unrecognized compensation expense related to these equity awards at march 31 , 2012 is $ 3.6 million based on the company 2019s current assessment of probability of achieving the performance milestones .\n",
      "the weighted-average period over which this cost will be recognized is 2.1 years. .\n"
     ]
    }
   ],
   "source": [
    "print(data.full_text[1])"
   ]
  },
  {
   "cell_type": "code",
   "execution_count": 63,
   "metadata": {},
   "outputs": [
    {
     "data": {
      "text/plain": [
       "id                                      ADI/2009/page_49.pdf-1\n",
       "question             what is the the interest expense in 2009?\n",
       "answer                                                     380\n",
       "Company                                                    ADI\n",
       "Year                                                      2009\n",
       "full_text    interest rate to a variable interest rate base...\n",
       "Name: 0, dtype: object"
      ]
     },
     "execution_count": 63,
     "metadata": {},
     "output_type": "execute_result"
    }
   ],
   "source": [
    "query = data.iloc[0].question\n",
    "data.iloc[0]"
   ]
  },
  {
   "cell_type": "markdown",
   "metadata": {},
   "source": [
    "## Indexing"
   ]
  },
  {
   "cell_type": "code",
   "execution_count": 9,
   "metadata": {},
   "outputs": [],
   "source": [
    "text_splitter = RecursiveCharacterTextSplitter()"
   ]
  },
  {
   "cell_type": "code",
   "execution_count": 10,
   "metadata": {},
   "outputs": [],
   "source": [
    "vo = voyageai.Client(api_key=voyage_api_key)\n",
    "\n",
    "class Embedder:\n",
    "    def __init__(self, batch_size=128):\n",
    "        self.batch_size = batch_size  \n",
    "\n",
    "    def embed_document(self, text):\n",
    "        embedding = vo.embed([text], model=\"voyage-3\", input_type=\"document\").embeddings[0]\n",
    "        return embedding\n",
    "\n",
    "    def embed_documents(self, texts):\n",
    "        embeddings = []\n",
    "        for i in range(0, len(texts), self.batch_size):\n",
    "            batch = texts[i:i + self.batch_size]\n",
    "            batch_embeddings = vo.embed(batch, model=\"voyage-3\", input_type=\"document\").embeddings\n",
    "            embeddings.extend([embedding for embedding in batch_embeddings])\n",
    "        return embeddings\n",
    "    \n",
    "    def embed_query(self, query):\n",
    "        embedding = vo.embed([query], model=\"voyage-3\", input_type=\"query\").embeddings[0]\n",
    "        return embedding\n",
    "    \n",
    "embedder = Embedder()"
   ]
  },
  {
   "cell_type": "code",
   "execution_count": 11,
   "metadata": {},
   "outputs": [],
   "source": [
    "from concurrent.futures import ThreadPoolExecutor, as_completed\n",
    "\n",
    "persist_directory = \".chroma\"\n",
    "\n",
    "docs = []\n",
    "\n",
    "def process_document(id, text):\n",
    "    local_docs = []\n",
    "    try:\n",
    "        chunks = text_splitter.split_text(text)\n",
    "\n",
    "        for i, chunk in enumerate(chunks):\n",
    "            doc = Document(page_content=chunk, metadata={\"id\": data.loc[id].id, \"chunk\": i, \"company\": data.loc[id].Company, \"year\": data.loc[id].Year})\n",
    "            local_docs.append(doc)\n",
    "\n",
    "    except Exception as e:\n",
    "        print(f\"Error processing document {id}: {e}\")\n",
    "    \n",
    "    return local_docs\n",
    "\n",
    "if not os.path.exists(persist_directory):\n",
    "    with ThreadPoolExecutor() as executor:\n",
    "        futures = {executor.submit(process_document, id, text): id for id, text in data.full_text.iloc[0:10].items()}\n",
    "        \n",
    "        for future in as_completed(futures):\n",
    "            result = future.result()\n",
    "            docs.extend(result) "
   ]
  },
  {
   "cell_type": "code",
   "execution_count": 12,
   "metadata": {},
   "outputs": [
    {
     "name": "stderr",
     "output_type": "stream",
     "text": [
      "/var/folders/mv/_dg3pqgn2zdf7f95_1dg07rw0000gn/T/ipykernel_57010/104589934.py:14: LangChainDeprecationWarning: The class `Chroma` was deprecated in LangChain 0.2.9 and will be removed in 1.0. An updated version of the class exists in the :class:`~langchain-chroma package and should be used instead. To use it run `pip install -U :class:`~langchain-chroma` and import as `from :class:`~langchain_chroma import Chroma``.\n",
      "  chroma_db = Chroma(\n"
     ]
    },
    {
     "name": "stdout",
     "output_type": "stream",
     "text": [
      "Created new ChromaDB and saved to .chroma\n",
      "Batch 1 of 1 added to ChromaDB.\n"
     ]
    }
   ],
   "source": [
    "from math import ceil\n",
    "\n",
    "persist_directory = \".chroma\"\n",
    "\n",
    "if os.path.exists(persist_directory):\n",
    "\n",
    "    # Load the existing ChromaDB\n",
    "    chroma_db = Chroma(persist_directory=persist_directory, embedding_function=embedder)\n",
    "    print(\"Loaded existing ChromaDB from .chroma\")\n",
    "\n",
    "else:\n",
    "\n",
    "    # Create ChromaDB and store the documents\n",
    "    chroma_db = Chroma(\n",
    "        embedding_function=embedder,\n",
    "        persist_directory=persist_directory,\n",
    "    )\n",
    "    \n",
    "    print(\"Created new ChromaDB and saved to .chroma\")\n",
    "\n",
    "    batch_size = 5000\n",
    "    num_batches = ceil(len(docs) / batch_size)\n",
    "\n",
    "    for i in range(num_batches):\n",
    "        start_idx = i * batch_size\n",
    "        end_idx = min(start_idx + batch_size, len(docs))\n",
    "        batch_docs = docs[start_idx:end_idx]\n",
    "        \n",
    "        chroma_db.add_texts(\n",
    "            texts=[doc.page_content for doc in batch_docs],\n",
    "            metadatas=[doc.metadata for doc in batch_docs]\n",
    "        )\n",
    "\n",
    "        print(f\"Batch {i+1} of {num_batches} added to ChromaDB.\")"
   ]
  },
  {
   "cell_type": "code",
   "execution_count": 13,
   "metadata": {},
   "outputs": [
    {
     "data": {
      "text/plain": [
       "[Document(metadata={'id': 'GIS/2019/page_45.pdf-1', 'chunk': 0, 'company': 'GIS', 'year': '2019'}, page_content='free cash flow conversion rate we believe this measure provides useful information to investors because it is important for assessing our efficiency in converting earnings to cash and returning cash to shareholders .\\nthe calculation of free cash flow conversion rate and net cash provided by operating activities conversion rate , its equivalent gaap measure , follows: .\\n\\n\\n\\n| in millions                                                                                        | fiscal 2019      |\\n|:---------------------------------------------------------------------------------------------------|:-----------------|\\n| net earnings including earnings attributable to redeemable and noncontrolling interests asreported | $ 1786.2         |\\n| net tax benefit ( a )                                                                              | $ -7.2 ( 7.2 )   |\\n| tax item ( a )                                                                                     | -72.9 ( 72.9 )   |\\n| mark-to-marketeffects net of tax ( b )                                                             | 27.7             |\\n| acquisition integration costs net of tax ( c )                                                     | 19.7             |\\n| divestitures loss net of tax ( c )                                                                 | 16.4             |\\n| restructuring charges net of tax ( d )                                                             | 63.0             |\\n| project-related costs net of tax ( d )                                                             | 1.1              |\\n| asset impairments net of tax ( d )                                                                 | 159.7            |\\n| hyperinflationary accounting net of tax ( e )                                                      | 3.2              |\\n| investment valuation adjustments net of tax ( f )                                                  | -17.6 ( 17.6 )   |\\n| legal recovery net of tax ( g )                                                                    | -10.8 ( 10.8 )   |\\n| cpw restructuring costs net of tax ( h )                                                           | 11.1             |\\n| adjusted net earnings including earnings attributable to redeemable and noncontrollinginterests    | $ 1979.6         |\\n| net cash provided by operating activities                                                          | $ 2807.0         |\\n| purchases of land buildings and equipment                                                          | -537.6 ( 537.6 ) |\\n| free cash flow                                                                                     | $ 2269.4         |\\n| net cash provided by operating activities conversion rate                                          | 157% ( 157 % )   |\\n| free cash flow conversion rate                                                                     | 115% ( 115 % )   |\\n\\n\\n\\n( a ) see note 14 to the consolidated financial statements in item 8 of this report .\\n( b ) see note 7 to the consolidated financial statements in item 8 of this report .\\n( c ) see note 3 to the consolidated financial statements in item 8 of this report .\\n( d ) see note 4 to the consolidated financial statements in item 8 of this report .\\n( e ) impact of hyperinflationary accounting for our argentina subsidiary , which was sold in the third quarter of fiscal 2019 .\\n( f ) valuation gains on certain corporate investments .\\n( g ) legal recovery related to our yoplait sas subsidiary .\\n( h ) the cpw restructuring charges are related to initiatives designed to improve profitability and growth that were approved in fiscal 2018 and 2019 .\\nsee our reconciliation below of the effective income tax rate as reported to the adjusted effective income tax rate for the tax impact of each item affecting comparability. .'),\n",
       " Document(metadata={'id': 'IPG/2009/page_89.pdf-3', 'chunk': 0, 'company': 'IPG', 'year': '2009'}, page_content='notes to consolidated financial statements 2013 ( continued ) ( amounts in millions , except per share amounts ) guarantees we have guarantees of certain obligations of our subsidiaries relating principally to credit facilities , certain media payables and operating leases of certain subsidiaries .\\nthe amount of such parent company guarantees was $ 769.3 and $ 706.7 as of december 31 , 2009 and 2008 , respectively .\\nin the event of non-payment by the applicable subsidiary of the obligations covered by a guarantee , we would be obligated to pay the amounts covered by that guarantee .\\nas of december 31 , 2009 , there are no material assets pledged as security for such parent company guarantees .\\ncontingent acquisition obligations the following table details the estimated future contingent acquisition obligations payable in cash as of december 31 , 2009 .\\nthe estimated amounts listed would be paid in the event of exercise at the earliest exercise date .\\nsee note 6 for further information relating to the payment structure of our acquisitions .\\nall payments are contingent upon achieving projected operating performance targets and satisfying other conditions specified in the related agreements and are subject to revisions as the earn-out periods progress. .\\n\\n\\n\\n|                                                                       | 2010   | 2011   | 2012   | 2013   | 2014   | thereafter   | total   |\\n|:----------------------------------------------------------------------|:-------|:-------|:-------|:-------|:-------|:-------------|:--------|\\n| deferred acquisition payments                                         | $ 20.5 | $ 34.8 | $ 1.2  | $ 1.1  | $ 2.1  | $ 0.3        | $ 60.0  |\\n| redeemable noncontrolling interests and call options with affiliates1 | 44.4   | 47.9   | 40.5   | 36.3   | 3.3    | 2014         | 172.4   |\\n| total contingent acquisition payments                                 | 64.9   | 82.7   | 41.7   | 37.4   | 5.4    | 0.3          | 232.4   |\\n| less : cash compensation expense included above                       | 1.0    | 1.0    | 1.0    | 0.5    | 2014   | 2014         | 3.5     |\\n| total                                                                 | $ 63.9 | $ 81.7 | $ 40.7 | $ 36.9 | $ 5.4  | $ 0.3        | $ 228.9 |'),\n",
       " Document(metadata={'id': 'IPG/2009/page_89.pdf-3', 'chunk': 1, 'company': 'IPG', 'year': '2009'}, page_content='1 we have entered into certain acquisitions that contain both redeemable noncontrolling interests and call options with similar terms and conditions .\\nin such instances , we have included the related estimated contingent acquisition obligation in the period when the earliest related option is exercisable .\\nwe have certain redeemable noncontrolling interests that are exercisable at the discretion of the noncontrolling equity owners as of december 31 , 2009 .\\nas such , these estimated acquisition payments of $ 20.5 have been included within the total payments expected to be made in 2010 in the table and , if not made in 2010 , will continue to carry forward into 2011 or beyond until they are exercised or expire .\\nredeemable noncontrolling interests are included in the table at current exercise price payable in cash , not at applicable redemption value in accordance with the authoritative guidance for classification and measurement of redeemable securities .\\nlegal matters we are involved in legal and administrative proceedings of various types .\\nwhile any litigation contains an element of uncertainty , we do not believe that the outcome of such proceedings will have a material adverse effect on our financial condition , results of operations or cash flows .\\nnote 16 : recent accounting standards in december 2009 , the financial accounting standards board ( 201cfasb 201d ) amended authoritative guidance related to accounting for transfers and servicing of financial assets and extinguishments of liabilities .\\nthe guidance will be effective for the company beginning january 1 , 2010 .\\nthe guidance eliminates the concept of a qualifying special-purpose entity and changes the criteria for derecognizing financial assets .\\nin addition , the guidance will require additional disclosures related to a company 2019s continued involvement with financial assets that have been transferred .\\nwe do not expect the adoption of this amended guidance to have a significant impact on our consolidated financial statements .\\nin december 2009 , the fasb amended authoritative guidance for consolidating variable interest entities .\\nthe guidance will be effective for the company beginning january 1 , 2010 .\\nspecifically , the guidance revises factors that should be considered by a reporting entity when determining whether an entity that is insufficiently capitalized or is not controlled through voting ( or similar rights ) should be consolidated .\\nthis guidance also includes revised financial statement disclosures regarding the reporting entity 2019s involvement , including significant risk exposures as a result of that involvement , and the impact the relationship has on the reporting entity 2019s financial statements .\\nwe are currently evaluating the potential impact of the amended guidance on our consolidated financial statements. .'),\n",
       " Document(metadata={'id': 'ABMD/2012/page_75.pdf-1', 'chunk': 0, 'company': 'ABMD', 'year': '2012'}, page_content='abiomed , inc .\\nand subsidiaries notes to consolidated financial statements 2014 ( continued ) note 8 .\\nstock award plans and stock-based compensation ( continued ) restricted stock and restricted stock units the following table summarizes restricted stock and restricted stock unit activity for the fiscal year ended march 31 , 2012 : number of shares ( in thousands ) weighted average grant date fair value ( per share ) .\\n\\n\\n\\n|                                                                  | number of shares ( in thousands )   | weighted average grant date fair value ( per share )   |\\n|:-----------------------------------------------------------------|:------------------------------------|:-------------------------------------------------------|\\n| restricted stock and restricted stock units at beginning of year | 407                                 | $ 9.84                                                 |\\n| granted                                                          | 607                                 | 18.13                                                  |\\n| vested                                                           | -134 ( 134 )                        | 10.88                                                  |\\n| forfeited                                                        | -9 ( 9 )                            | 13.72                                                  |\\n| restricted stock and restricted stock units at end of year       | 871                                 | $ 15.76                                                |'),\n",
       " Document(metadata={'id': 'ABMD/2012/page_75.pdf-1', 'chunk': 1, 'company': 'ABMD', 'year': '2012'}, page_content='the remaining unrecognized compensation expense for outstanding restricted stock and restricted stock units , including performance-based awards , as of march 31 , 2012 was $ 7.1 million and the weighted-average period over which this cost will be recognized is 2.2 years .\\nthe weighted average grant-date fair value for restricted stock and restricted stock units granted during the years ended march 31 , 2012 , 2011 , and 2010 was $ 18.13 , $ 10.00 and $ 7.67 per share , respectively .\\nthe total fair value of restricted stock and restricted stock units vested in fiscal years 2012 , 2011 , and 2010 was $ 1.5 million , $ 1.0 million and $ 0.4 million , respectively .\\nperformance-based awards included in the restricted stock and restricted stock units activity discussed above are certain awards granted in fiscal years 2012 , 2011 and 2010 that vest subject to certain performance-based criteria .\\nin june 2010 , 311000 shares of restricted stock and a performance-based award for the potential issuance of 45000 shares of common stock were issued to certain executive officers and members of senior management of the company , all of which would vest upon achievement of prescribed service milestones by the award recipients and performance milestones by the company .\\nduring the year ended march 31 , 2011 , the company determined that it met the prescribed performance targets and a portion of these shares and stock options vested .\\nthe remaining shares will vest upon satisfaction of prescribed service conditions by the award recipients .\\nduring the three months ended june 30 , 2011 , the company determined that it should have been using the graded vesting method instead of the straight-line method to expense stock-based compensation for the performance-based awards issued in june 2010 .\\nthis resulted in additional stock based compensation expense of approximately $ 0.6 million being recorded during the three months ended june 30 , 2011 that should have been recorded during the year ended march 31 , 2011 .\\nthe company believes that the amount is not material to its march 31 , 2011 consolidated financial statements and therefore recorded the adjustment in the quarter ended june 30 , 2011 .\\nduring the three months ended june 30 , 2011 , performance-based awards of restricted stock units for the potential issuance of 284000 shares of common stock were issued to certain executive officers and members of the senior management , all of which would vest upon achievement of prescribed service milestones by the award recipients and revenue performance milestones by the company .\\nas of march 31 , 2012 , the company determined that it met the prescribed targets for 184000 shares underlying these awards and it believes it is probable that the prescribed performance targets will be met for the remaining 100000 shares , and the compensation expense is being recognized accordingly .\\nduring the year ended march 31 , 2012 , the company has recorded $ 3.3 million in stock-based compensation expense for equity awards in which the prescribed performance milestones have been achieved or are probable of being achieved .\\nthe remaining unrecognized compensation expense related to these equity awards at march 31 , 2012 is $ 3.6 million based on the company 2019s current assessment of probability of achieving the performance milestones .\\nthe weighted-average period over which this cost will be recognized is 2.1 years. .'),\n",
       " Document(metadata={'id': 'AMT/2012/page_121.pdf-1', 'chunk': 0, 'company': 'AMT', 'year': '2012'}, page_content='american tower corporation and subsidiaries notes to consolidated financial statements ( 3 ) consists of customer-related intangibles of approximately $ 75.0 million and network location intangibles of approximately $ 72.7 million .\\nthe customer-related intangibles and network location intangibles are being amortized on a straight-line basis over periods of up to 20 years .\\n( 4 ) the company expects that the goodwill recorded will be deductible for tax purposes .\\nthe goodwill was allocated to the company 2019s international rental and management segment .\\non september 12 , 2012 , the company entered into a definitive agreement to purchase up to approximately 348 additional communications sites from telef f3nica mexico .\\non september 27 , 2012 and december 14 , 2012 , the company completed the purchase of 279 and 2 communications sites , for an aggregate purchase price of $ 63.5 million ( including value added tax of $ 8.8 million ) .\\nthe following table summarizes the preliminary allocation of the aggregate purchase consideration paid and the amounts of assets acquired and liabilities assumed based upon their estimated fair value at the date of acquisition ( in thousands ) : preliminary purchase price allocation .\\n\\n\\n\\n|                                   | preliminary purchase price allocation   |\\n|:----------------------------------|:----------------------------------------|\\n| current assets                    | $ 8763                                  |\\n| non-current assets                | 2332                                    |\\n| property and equipment            | 26711                                   |\\n| intangible assets ( 1 )           | 21079                                   |\\n| other non-current liabilities     | -1349 ( 1349 )                          |\\n| fair value of net assets acquired | $ 57536                                 |\\n| goodwill ( 2 )                    | 5998                                    |\\n\\n\\n\\n( 1 ) consists of customer-related intangibles of approximately $ 10.7 million and network location intangibles of approximately $ 10.4 million .\\nthe customer-related intangibles and network location intangibles are being amortized on a straight-line basis over periods of up to 20 years .\\n( 2 ) the company expects that the goodwill recorded will be deductible for tax purposes .\\nthe goodwill was allocated to the company 2019s international rental and management segment .\\non november 16 , 2012 , the company entered into an agreement to purchase up to 198 additional communications sites from telef f3nica mexico .\\non december 14 , 2012 , the company completed the purchase of 188 communications sites , for an aggregate purchase price of $ 64.2 million ( including value added tax of $ 8.9 million ) . .'),\n",
       " Document(metadata={'id': 'INTC/2013/page_71.pdf-4', 'chunk': 0, 'company': 'INTC', 'year': '2013'}, page_content='the fair value of our grants receivable is determined using a discounted cash flow model , which discounts future cash flows using an appropriate yield curve .\\nas of december 28 , 2013 , and december 29 , 2012 , the carrying amount of our grants receivable was classified within other current assets and other long-term assets , as applicable .\\nour long-term debt recognized at amortized cost is comprised of our senior notes and our convertible debentures .\\nthe fair value of our senior notes is determined using active market prices , and it is therefore classified as level 1 .\\nthe fair value of our convertible long-term debt is determined using discounted cash flow models with observable market inputs , and it takes into consideration variables such as interest rate changes , comparable securities , subordination discount , and credit-rating changes , and it is therefore classified as level 2 .\\nthe nvidia corporation ( nvidia ) cross-license agreement liability in the preceding table was incurred as a result of entering into a long-term patent cross-license agreement with nvidia in january 2011 .\\nwe agreed to make payments to nvidia over six years .\\nas of december 28 , 2013 , and december 29 , 2012 , the carrying amount of the liability arising from the agreement was classified within other accrued liabilities and other long-term liabilities , as applicable .\\nthe fair value is determined using a discounted cash flow model , which discounts future cash flows using our incremental borrowing rates .\\nnote 5 : cash and investments cash and investments at the end of each period were as follows : ( in millions ) dec 28 , dec 29 .\\n\\n\\n\\n| ( in millions )                        | dec 282013   | dec 292012   |\\n|:---------------------------------------|:-------------|:-------------|\\n| available-for-sale investments         | $ 18086      | $ 14001      |\\n| cash                                   | 854          | 593          |\\n| equity method investments              | 1038         | 992          |\\n| loans receivable                       | 1072         | 979          |\\n| non-marketable cost method investments | 1270         | 1202         |\\n| reverse repurchase agreements          | 800          | 2850         |\\n| trading assets                         | 8441         | 5685         |\\n| total cash and investments             | $ 31561      | $ 26302      |\\n\\n\\n\\nin the third quarter of 2013 , we sold our shares in clearwire corporation , which had been accounted for as available-for-sale marketable equity securities , and our interest in clearwire communications , llc ( clearwire llc ) , which had been accounted for as an equity method investment .\\nin total , we received proceeds of $ 470 million on these transactions and recognized a gain of $ 439 million , which is included in gains ( losses ) on equity investments , net on the consolidated statements of income .\\nproceeds received and gains recognized for each investment are included in the \"available-for-sale investments\" and \"equity method investments\" sections that follow .\\ntable of contents intel corporation notes to consolidated financial statements ( continued ) .'),\n",
       " Document(metadata={'id': 'ETR/2008/page_313.pdf-3', 'chunk': 0, 'company': 'ETR', 'year': '2008'}, page_content='entergy louisiana , llc management\\'s financial discussion and analysis net revenue 2008 compared to 2007 net revenue consists of operating revenues net of : 1 ) fuel , fuel-related expenses , and gas purchased for resale , 2 ) purchased power expenses , and 3 ) other regulatory charges .\\nfollowing is an analysis of the change in net revenue comparing 2008 to 2007 .\\namount ( in millions ) .\\n\\n\\n\\n|                          | amount ( in millions )   |\\n|:-------------------------|:-------------------------|\\n| 2007 net revenue         | $ 991.1                  |\\n| retail electric price    | -17.1 ( 17.1 )           |\\n| purchased power capacity | -12.0 ( 12.0 )           |\\n| net wholesale revenue    | -7.4 ( 7.4 )             |\\n| other                    | 4.6                      |\\n| 2008 net revenue         | $ 959.2                  |\\n\\n\\n\\nthe retail electric price variance is primarily due to the cessation of the interim storm recovery through the formula rate plan upon the act 55 financing of storm costs and a credit passed on to customers as a result of the act 55 storm cost financing , partially offset by increases in the formula rate plan effective october 2007 .\\nrefer to \"hurricane rita and hurricane katrina\" and \"state and local rate regulation\" below for a discussion of the interim recovery of storm costs , the act 55 storm cost financing , and the formula rate plan filing .\\nthe purchased power capacity variance is due to the amortization of deferred capacity costs effective september 2007 as a result of the formula rate plan filing in may 2007 .\\npurchased power capacity costs are offset in base revenues due to a base rate increase implemented to recover incremental deferred and ongoing purchased power capacity charges .\\nsee \"state and local rate regulation\" below for a discussion of the formula rate plan filing .\\nthe net wholesale revenue variance is primarily due to provisions recorded for potential rate refunds related to the treatment of interruptible load in pricing entergy system affiliate sales .\\ngross operating revenue and , fuel and purchased power expenses gross operating revenues increased primarily due to an increase of $ 364.7 million in fuel cost recovery revenues due to higher fuel rates offset by decreased usage .\\nthe increase was partially offset by a decrease of $ 56.8 million in gross wholesale revenue due to a decrease in system agreement rough production cost equalization credits .\\nfuel and purchased power expenses increased primarily due to increases in the average market prices of natural gas and purchased power , partially offset by a decrease in the recovery from customers of deferred fuel costs. .'),\n",
       " Document(metadata={'id': 'AAL/2018/page_13.pdf-2', 'chunk': 0, 'company': 'AAL', 'year': '2018'}, page_content='the following table shows annual aircraft fuel consumption and costs , including taxes , for our mainline and regional operations for 2018 , 2017 and 2016 ( gallons and aircraft fuel expense in millions ) .\\nyear gallons average price per gallon aircraft fuel expense percent of total operating expenses .\\n\\n\\n\\n|   year |   gallons | average priceper gallon   | aircraft fuelexpense   | percent of totaloperating expenses   |\\n|-------:|----------:|:--------------------------|:-----------------------|:-------------------------------------|\\n|   2018 |      4447 | $ 2.23                    | $ 9896                 | 23.6% ( 23.6 % )                     |\\n|   2017 |      4352 | 1.73                      | 7510                   | 19.6% ( 19.6 % )                     |\\n|   2016 |      4347 | 1.42                      | 6180                   | 17.6% ( 17.6 % )                     |'),\n",
       " Document(metadata={'id': 'AAL/2018/page_13.pdf-2', 'chunk': 1, 'company': 'AAL', 'year': '2018'}, page_content='as of december 31 , 2018 , we did not have any fuel hedging contracts outstanding to hedge our fuel consumption .\\nas such , and assuming we do not enter into any future transactions to hedge our fuel consumption , we will continue to be fully exposed to fluctuations in fuel prices .\\nour current policy is not to enter into transactions to hedge our fuel consumption , although we review that policy from time to time based on market conditions and other factors .\\nfuel prices have fluctuated substantially over the past several years .\\nwe cannot predict the future availability , price volatility or cost of aircraft fuel .\\nnatural disasters ( including hurricanes or similar events in the u.s .\\nsoutheast and on the gulf coast where a significant portion of domestic refining capacity is located ) , political disruptions or wars involving oil-producing countries , economic sanctions imposed against oil-producing countries or specific industry participants , changes in fuel-related governmental policy , the strength of the u.s .\\ndollar against foreign currencies , changes in the cost to transport or store petroleum products , changes in access to petroleum product pipelines and terminals , speculation in the energy futures markets , changes in aircraft fuel production capacity , environmental concerns and other unpredictable events may result in fuel supply shortages , distribution challenges , additional fuel price volatility and cost increases in the future .\\nsee part i , item 1a .\\nrisk factors 2013 201cour business is very dependent on the price and availability of aircraft fuel .\\ncontinued periods of high volatility in fuel costs , increased fuel prices or significant disruptions in the supply of aircraft fuel could have a significant negative impact on our operating results and liquidity . 201d seasonality and other factors due to the greater demand for air travel during the summer months , revenues in the airline industry in the second and third quarters of the year tend to be greater than revenues in the first and fourth quarters of the year .\\ngeneral economic conditions , fears of terrorism or war , fare initiatives , fluctuations in fuel prices , labor actions , weather , natural disasters , outbreaks of disease and other factors could impact this seasonal pattern .\\ntherefore , our quarterly results of operations are not necessarily indicative of operating results for the entire year , and historical operating results in a quarterly or annual period are not necessarily indicative of future operating results .\\ndomestic and global regulatory landscape general airlines are subject to extensive domestic and international regulatory requirements .\\ndomestically , the dot and the federal aviation administration ( faa ) exercise significant regulatory authority over air carriers .\\nthe dot , among other things , oversees domestic and international codeshare agreements , international route authorities , competition and consumer protection matters such as advertising , denied boarding compensation and baggage liability .\\nthe antitrust division of the department of justice ( doj ) , along with the dot in certain instances , have jurisdiction over airline antitrust matters. .'),\n",
       " Document(metadata={'id': 'C/2010/page_272.pdf-1', 'chunk': 0, 'company': 'C', 'year': '2010'}, page_content='the significant changes from december 31 , 2008 to december 31 , 2009 in level 3 assets and liabilities are due to : a net decrease in trading securities of $ 10.8 billion that was driven by : 2022 net transfers of $ 6.5 billion , due mainly to the transfer of debt 2013 securities from level 3 to level 2 due to increased liquidity and pricing transparency ; and net settlements of $ 5.8 billion , due primarily to the liquidations of 2013 subprime securities of $ 4.1 billion .\\nthe change in net trading derivatives driven by : 2022 a net loss of $ 4.9 billion relating to complex derivative contracts , 2013 such as those linked to credit , equity and commodity exposures .\\nthese losses include both realized and unrealized losses during 2009 and are partially offset by gains recognized in instruments that have been classified in levels 1 and 2 ; and net increase in derivative assets of $ 4.3 billion , which includes cash 2013 settlements of derivative contracts in an unrealized loss position , notably those linked to subprime exposures .\\nthe decrease in level 3 investments of $ 6.9 billion primarily 2022 resulted from : a reduction of $ 5.0 billion , due mainly to paydowns on debt 2013 securities and sales of private equity investments ; the net transfer of investment securities from level 3 to level 2 2013 of $ 1.5 billion , due to increased availability of observable pricing inputs ; and net losses recognized of $ 0.4 billion due mainly to losses on non- 2013 marketable equity securities including write-downs on private equity investments .\\nthe decrease in securities sold under agreements to repurchase of 2022 $ 9.1 billion is driven by a $ 8.6 billion net transfers from level 3 to level 2 as effective maturity dates on structured repos have shortened .\\nthe decrease in long-term debt of $ 1.5 billion is driven mainly by 2022 $ 1.3 billion of net terminations of structured notes .\\ntransfers between level 1 and level 2 of the fair value hierarchy the company did not have any significant transfers of assets or liabilities between levels 1 and 2 of the fair value hierarchy during 2010 .\\nitems measured at fair value on a nonrecurring basis certain assets and liabilities are measured at fair value on a nonrecurring basis and therefore are not included in the tables above .\\nthese include assets measured at cost that have been written down to fair value during the periods as a result of an impairment .\\nin addition , these assets include loans held-for-sale that are measured at locom that were recognized at fair value below cost at the end of the period .\\nthe fair value of loans measured on a locom basis is determined where possible using quoted secondary-market prices .\\nsuch loans are generally classified as level 2 of the fair value hierarchy given the level of activity in the market and the frequency of available quotes .\\nif no such quoted price exists , the fair value of a loan is determined using quoted prices for a similar asset or assets , adjusted for the specific attributes of that loan .\\nthe following table presents all loans held-for-sale that are carried at locom as of december 31 , 2010 and 2009 : in billions of dollars aggregate cost fair value level 2 level 3 .\\n\\n\\n\\n| in billions of dollars   | aggregate cost   | fair value   | level 2   | level 3   |\\n|:-------------------------|:-----------------|:-------------|:----------|:----------|\\n| december 31 2010         | $ 3.1            | $ 2.5        | $ 0.7     | $ 1.8     |\\n| december 31 2009         | $ 2.5            | $ 1.6        | $ 0.3     | $ 1.3     |\\n\\n\\n\\n.'),\n",
       " Document(metadata={'id': 'ADI/2009/page_49.pdf-1', 'chunk': 0, 'company': 'ADI', 'year': '2009'}, page_content='interest rate to a variable interest rate based on the three-month libor plus 2.05% ( 2.05 % ) ( 2.34% ( 2.34 % ) as of october 31 , 2009 ) .\\nif libor changes by 100 basis points , our annual interest expense would change by $ 3.8 million .\\nforeign currency exposure as more fully described in note 2i .\\nin the notes to consolidated financial statements contained in item 8 of this annual report on form 10-k , we regularly hedge our non-u.s .\\ndollar-based exposures by entering into forward foreign currency exchange contracts .\\nthe terms of these contracts are for periods matching the duration of the underlying exposure and generally range from one month to twelve months .\\ncurrently , our largest foreign currency exposure is the euro , primarily because our european operations have the highest proportion of our local currency denominated expenses .\\nrelative to foreign currency exposures existing at october 31 , 2009 and november 1 , 2008 , a 10% ( 10 % ) unfavorable movement in foreign currency exchange rates over the course of the year would not expose us to significant losses in earnings or cash flows because we hedge a high proportion of our year-end exposures against fluctuations in foreign currency exchange rates .\\nthe market risk associated with our derivative instruments results from currency exchange rate or interest rate movements that are expected to offset the market risk of the underlying transactions , assets and liabilities being hedged .\\nthe counterparties to the agreements relating to our foreign exchange instruments consist of a number of major international financial institutions with high credit ratings .\\nwe do not believe that there is significant risk of nonperformance by these counterparties because we continually monitor the credit ratings of such counterparties .\\nwhile the contract or notional amounts of derivative financial instruments provide one measure of the volume of these transactions , they do not represent the amount of our exposure to credit risk .\\nthe amounts potentially subject to credit risk ( arising from the possible inability of counterparties to meet the terms of their contracts ) are generally limited to the amounts , if any , by which the counterparties 2019 obligations under the contracts exceed our obligations to the counterparties .\\nthe following table illustrates the effect that a 10% ( 10 % ) unfavorable or favorable movement in foreign currency exchange rates , relative to the u.s .\\ndollar , would have on the fair value of our forward exchange contracts as of october 31 , 2009 and november 1 , 2008: .\\n\\n\\n\\n|                                                                                                                                           | october 31 2009   | november 1 2008    |\\n|:------------------------------------------------------------------------------------------------------------------------------------------|:------------------|:-------------------|\\n| fair value of forward exchange contracts asset ( liability )                                                                              | $ 6427            | $ -23158 ( 23158 ) |\\n| fair value of forward exchange contracts after a 10% ( 10 % ) unfavorable movement in foreign currency exchange rates asset ( liability ) | $ 20132           | $ -9457 ( 9457 )   |\\n| fair value of forward exchange contracts after a 10% ( 10 % ) favorable movement in foreign currency exchange rates liability             | $ -6781 ( 6781 )  | $ -38294 ( 38294 ) |'),\n",
       " Document(metadata={'id': 'ADI/2009/page_49.pdf-1', 'chunk': 1, 'company': 'ADI', 'year': '2009'}, page_content='fair value of forward exchange contracts after a 10% ( 10 % ) unfavorable movement in foreign currency exchange rates asset ( liability ) .\\n.\\n.\\n.\\n.\\n.\\n.\\n.\\n.\\n$ 20132 $ ( 9457 ) fair value of forward exchange contracts after a 10% ( 10 % ) favorable movement in foreign currency exchange rates liability .\\n.\\n.\\n.\\n.\\n.\\n.\\n.\\n.\\n.\\n.\\n.\\n.\\n.\\n.\\n.\\n.\\n.\\n.\\n.\\n.\\n.\\n$ ( 6781 ) $ ( 38294 ) the calculation assumes that each exchange rate would change in the same direction relative to the u.s .\\ndollar .\\nin addition to the direct effects of changes in exchange rates , such changes typically affect the volume of sales or the foreign currency sales price as competitors 2019 products become more or less attractive .\\nour sensitivity analysis of the effects of changes in foreign currency exchange rates does not factor in a potential change in sales levels or local currency selling prices. .'),\n",
       " Document(metadata={'id': 'CDNS/2018/page_32.pdf-2', 'chunk': 0, 'company': 'CDNS', 'year': '2018'}, page_content='issuer purchases of equity securities in january 2017 , our board of directors authorized the repurchase of shares of our common stock with a value of up to $ 525 million in the aggregate .\\nas of december 29 , 2018 , $ 175 million remained available under this authorization .\\nin february 2019 , our board of directors authorized the additional repurchase of shares of our common stock with a value of up to $ 500.0 million in the aggregate .\\nthe actual timing and amount of repurchases are subject to business and market conditions , corporate and regulatory requirements , stock price , acquisition opportunities and other factors .\\nthe following table presents repurchases made under our current authorization and shares surrendered by employees to satisfy income tax withholding obligations during the three months ended december 29 , 2018 : period total number of shares purchased ( 1 ) average price paid per share ( 2 ) total number of shares purchased as part of publicly announced plan or program maximum dollar value of shares authorized for repurchase under publicly announced plan or program ( 1 ) ( in millions ) september 30 , 2018 2013 november 3 , 2018 543900 $ 42.64 495543 $ 254 november 4 , 2018 2013 december 1 , 2018 650048 $ 44.49 623692 $ 226 december 2 , 2018 2013 december 29 , 2018 1327657 $ 42.61 1203690 $ 175 .\\n\\n\\n\\n| period                                 |   total numberof sharespurchased ( 1 ) | averageprice paidper share ( 2 )   |   total number ofshares purchasedas part ofpublicly announcedplan or program | maximum dollarvalue of sharesauthorized for repurchase underpublicly announcedplan or program ( 1 ) ( in millions )   |\\n|:---------------------------------------|---------------------------------------:|:-----------------------------------|-----------------------------------------------------------------------------:|:----------------------------------------------------------------------------------------------------------------------|\\n| september 30 2018 2013 november 3 2018 |                                 543900 | $ 42.64                            |                                                                       495543 | $ 254                                                                                                                 |\\n| november 4 2018 2013 december 1 2018   |                                 650048 | $ 44.49                            |                                                                       623692 | $ 226                                                                                                                 |\\n| december 2 2018 2013 december 29 2018  |                                1327657 | $ 42.61                            |                                                                      1203690 | $ 175                                                                                                                 |\\n| total                                  |                                2521605 | $ 43.10                            |                                                                      2322925 |                                                                                                                       |\\n\\n\\n\\n( 1 ) shares purchased that were not part of our publicly announced repurchase programs represent employee surrender of shares of restricted stock to satisfy employee income tax withholding obligations due upon vesting , and do not reduce the dollar value that may yet be purchased under our publicly announced repurchase programs .\\n( 2 ) the weighted average price paid per share of common stock does not include the cost of commissions. .')]"
      ]
     },
     "execution_count": 13,
     "metadata": {},
     "output_type": "execute_result"
    }
   ],
   "source": [
    "docs"
   ]
  },
  {
   "cell_type": "markdown",
   "metadata": {},
   "source": [
    "## Retrieval"
   ]
  },
  {
   "cell_type": "code",
   "execution_count": 80,
   "metadata": {},
   "outputs": [],
   "source": [
    "item = 2\n",
    "\n",
    "query = data.iloc[item].question\n",
    "answer = data.iloc[item].answer\n",
    "company = data.iloc[item].Company\n",
    "year = data.iloc[item].Year\n",
    "\n",
    "retriever = chroma_db.as_retriever(search_kwargs={\"k\": 1, \"filter\": {\"$and\": [{\"company\": company}, {\"year\": year}]}})"
   ]
  },
  {
   "cell_type": "markdown",
   "metadata": {},
   "source": [
    "## Generation"
   ]
  },
  {
   "cell_type": "code",
   "execution_count": 81,
   "metadata": {},
   "outputs": [],
   "source": [
    "PROMPT = PromptTemplate(\n",
    "    input_variables=[\"query\", \"context\"],\n",
    "    template=\"\"\"\n",
    "    Answer the following question based solely on the following context.\n",
    "\n",
    "    Context: {context}\n",
    "\n",
    "    Question: {query}\n",
    "    \"\"\")\n",
    "\n",
    "llm = ChatOpenAI()"
   ]
  },
  {
   "cell_type": "code",
   "execution_count": 82,
   "metadata": {},
   "outputs": [],
   "source": [
    "def format_context(context):\n",
    "    response = \"\"\n",
    "    for doc in context:\n",
    "        response += doc.page_content + \"\\n\\n\"\n",
    "    return response\n",
    "\n",
    "retrieve_chain = retriever | format_context \n",
    "\n",
    "generation_chain = RunnableLambda(lambda input: {\n",
    "    \"context\": retrieve_chain.invoke(input[\"query\"]),  # Call retriever correctly with a string input\n",
    "    \"query\": input[\"query\"]\n",
    "}) | PROMPT | llm"
   ]
  },
  {
   "cell_type": "code",
   "execution_count": 83,
   "metadata": {},
   "outputs": [
    {
     "name": "stdout",
     "output_type": "stream",
     "text": [
      "query: what was the total operating expenses in 2018 in millions\n",
      "\n",
      "Total operating expenses in 2018 can be calculated by dividing the aircraft fuel expense (in millions) by the percent of total operating expenses. \n",
      "\n",
      "For 2018:\n",
      "Aircraft fuel expense: $9896 million\n",
      "Percent of total operating expenses: 23.6%\n",
      "\n",
      "Total operating expenses in 2018:\n",
      "$9896 million / 0.236 = $41,847.46 million\n",
      "\n",
      "Therefore, the total operating expenses in 2018 was $41,847.46 million.\n",
      "\n",
      "answer: 41932\n"
     ]
    }
   ],
   "source": [
    "print(\"query:\", query)\n",
    "print()\n",
    "\n",
    "print(generation_chain.invoke(input={\"query\": query}).content)\n",
    "\n",
    "print()\n",
    "print(\"answer:\", answer)"
   ]
  },
  {
   "cell_type": "code",
   "execution_count": 84,
   "metadata": {},
   "outputs": [
    {
     "name": "stdout",
     "output_type": "stream",
     "text": [
      "the following table shows annual aircraft fuel consumption and costs , including taxes , for our mainline and regional operations for 2018 , 2017 and 2016 ( gallons and aircraft fuel expense in millions ) .\n",
      "year gallons average price per gallon aircraft fuel expense percent of total operating expenses .\n",
      "\n",
      "\n",
      "\n",
      "|   year |   gallons | average priceper gallon   | aircraft fuelexpense   | percent of totaloperating expenses   |\n",
      "|-------:|----------:|:--------------------------|:-----------------------|:-------------------------------------|\n",
      "|   2018 |      4447 | $ 2.23                    | $ 9896                 | 23.6% ( 23.6 % )                     |\n",
      "|   2017 |      4352 | 1.73                      | 7510                   | 19.6% ( 19.6 % )                     |\n",
      "|   2016 |      4347 | 1.42                      | 6180                   | 17.6% ( 17.6 % )                     |\n",
      "\n",
      "\n",
      "\n",
      "as of december 31 , 2018 , we did not have any fuel hedging contracts outstanding to hedge our fuel consumption .\n",
      "as such , and assuming we do not enter into any future transactions to hedge our fuel consumption , we will continue to be fully exposed to fluctuations in fuel prices .\n",
      "our current policy is not to enter into transactions to hedge our fuel consumption , although we review that policy from time to time based on market conditions and other factors .\n",
      "fuel prices have fluctuated substantially over the past several years .\n",
      "we cannot predict the future availability , price volatility or cost of aircraft fuel .\n",
      "natural disasters ( including hurricanes or similar events in the u.s .\n",
      "southeast and on the gulf coast where a significant portion of domestic refining capacity is located ) , political disruptions or wars involving oil-producing countries , economic sanctions imposed against oil-producing countries or specific industry participants , changes in fuel-related governmental policy , the strength of the u.s .\n",
      "dollar against foreign currencies , changes in the cost to transport or store petroleum products , changes in access to petroleum product pipelines and terminals , speculation in the energy futures markets , changes in aircraft fuel production capacity , environmental concerns and other unpredictable events may result in fuel supply shortages , distribution challenges , additional fuel price volatility and cost increases in the future .\n",
      "see part i , item 1a .\n",
      "risk factors 2013 201cour business is very dependent on the price and availability of aircraft fuel .\n",
      "continued periods of high volatility in fuel costs , increased fuel prices or significant disruptions in the supply of aircraft fuel could have a significant negative impact on our operating results and liquidity . 201d seasonality and other factors due to the greater demand for air travel during the summer months , revenues in the airline industry in the second and third quarters of the year tend to be greater than revenues in the first and fourth quarters of the year .\n",
      "general economic conditions , fears of terrorism or war , fare initiatives , fluctuations in fuel prices , labor actions , weather , natural disasters , outbreaks of disease and other factors could impact this seasonal pattern .\n",
      "therefore , our quarterly results of operations are not necessarily indicative of operating results for the entire year , and historical operating results in a quarterly or annual period are not necessarily indicative of future operating results .\n",
      "domestic and global regulatory landscape general airlines are subject to extensive domestic and international regulatory requirements .\n",
      "domestically , the dot and the federal aviation administration ( faa ) exercise significant regulatory authority over air carriers .\n",
      "the dot , among other things , oversees domestic and international codeshare agreements , international route authorities , competition and consumer protection matters such as advertising , denied boarding compensation and baggage liability .\n",
      "the antitrust division of the department of justice ( doj ) , along with the dot in certain instances , have jurisdiction over airline antitrust matters. .\n"
     ]
    }
   ],
   "source": [
    "print(data.iloc[item].full_text)"
   ]
  },
  {
   "cell_type": "code",
   "execution_count": null,
   "metadata": {},
   "outputs": [],
   "source": []
  }
 ],
 "metadata": {
  "kernelspec": {
   "display_name": ".venv",
   "language": "python",
   "name": "python3"
  },
  "language_info": {
   "codemirror_mode": {
    "name": "ipython",
    "version": 3
   },
   "file_extension": ".py",
   "mimetype": "text/x-python",
   "name": "python",
   "nbconvert_exporter": "python",
   "pygments_lexer": "ipython3",
   "version": "3.12.7"
  }
 },
 "nbformat": 4,
 "nbformat_minor": 2
}
