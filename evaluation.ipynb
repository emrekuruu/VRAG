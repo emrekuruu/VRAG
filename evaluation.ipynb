{
 "cells": [
  {
   "cell_type": "code",
   "execution_count": 1,
   "metadata": {},
   "outputs": [],
   "source": [
    "import pandas as pd\n",
    "import ast\n",
    "import os\n",
    "\n",
    "from deepeval.metrics import GEval\n",
    "from deepeval.test_case import LLMTestCaseParams, LLMTestCase"
   ]
  },
  {
   "cell_type": "code",
   "execution_count": 2,
   "metadata": {},
   "outputs": [],
   "source": [
    "with open(\"openai_api_key.txt\", \"r\") as file:\n",
    "    openai_key = file.read().strip()\n",
    "\n",
    "os.environ[\"OPENAI_API_KEY\"] = openai_key"
   ]
  },
  {
   "cell_type": "code",
   "execution_count": 3,
   "metadata": {},
   "outputs": [],
   "source": [
    "correctness_metric = GEval(\n",
    "    name=\"Correctness\",\n",
    "    criteria=\"Given the correct context and the actual answer. Determine whether the actual output is factually correct based on the expected output.\",\n",
    "    evaluation_params=[LLMTestCaseParams.INPUT, LLMTestCaseParams.ACTUAL_OUTPUT],\n",
    ")"
   ]
  },
  {
   "cell_type": "markdown",
   "metadata": {},
   "source": [
    "# Vanilla RAG"
   ]
  },
  {
   "cell_type": "code",
   "execution_count": 4,
   "metadata": {},
   "outputs": [],
   "source": [
    "pd.set_option(\"display.max_colwidth\", None)"
   ]
  },
  {
   "cell_type": "code",
   "execution_count": 15,
   "metadata": {},
   "outputs": [
    {
     "data": {
      "text/html": [
       "<div>\n",
       "<style scoped>\n",
       "    .dataframe tbody tr th:only-of-type {\n",
       "        vertical-align: middle;\n",
       "    }\n",
       "\n",
       "    .dataframe tbody tr th {\n",
       "        vertical-align: top;\n",
       "    }\n",
       "\n",
       "    .dataframe thead th {\n",
       "        text-align: right;\n",
       "    }\n",
       "</style>\n",
       "<table border=\"1\" class=\"dataframe\">\n",
       "  <thead>\n",
       "    <tr style=\"text-align: right;\">\n",
       "      <th></th>\n",
       "      <th>Retrieved Context</th>\n",
       "      <th>Correct Documents</th>\n",
       "      <th>Generated Answer</th>\n",
       "      <th>Correct Answer</th>\n",
       "      <th>Golden Context</th>\n",
       "    </tr>\n",
       "  </thead>\n",
       "  <tbody>\n",
       "    <tr>\n",
       "      <th>15</th>\n",
       "      <td>AAL/2014/page_130.pdf</td>\n",
       "      <td>AAL/2014/page_89.pdf</td>\n",
       "      <td>Approximately 66% \\n\\nTo arrive at this answer, I looked at the total reorganization items, net for both American Airlines Group Inc. and American Airlines, Inc. for the years ended December 31, 2013. I then calculated the total amount of the labor-related deemed claim for each company and divided it by the total reorganization items, net to find the percentage. For American Airlines Group Inc., the labor-related deemed claim was $1,733 million out of a total of $2,640 million, which is approximately 66%.</td>\n",
       "      <td>65.6%</td>\n",
       "      <td>['the labor-related deemed claim ( 1 ) of 2013 is $ 1733 ;'\\n 'the total reorganization items net of 2013 is $ 2640 ;']</td>\n",
       "    </tr>\n",
       "    <tr>\n",
       "      <th>105</th>\n",
       "      <td>AAL/2014/page_202.pdf</td>\n",
       "      <td>AAL/2014/page_80.pdf</td>\n",
       "      <td>Approximately 66% \\n\\nTo arrive at this answer, I first identified the labor-related deemed claim amount, which was $1,733 million. Then, I found the total reorganization items, which was $2,640 million. I divided the labor-related deemed claim by the total reorganization items and multiplied by 100 to get the percentage, which is approximately 66%.</td>\n",
       "      <td>65.3%</td>\n",
       "      <td>['the labor-related deemed claim ( 1 ) of 2013 is $ 1733 ;'\\n 'the total reorganization items net of 2013 is $ 2655 ;']</td>\n",
       "    </tr>\n",
       "    <tr>\n",
       "      <th>161</th>\n",
       "      <td>AAL/2014/page_201.pdf</td>\n",
       "      <td>AAL/2014/page_89.pdf</td>\n",
       "      <td>Answer: 7.5%\\n\\nTo arrive at this answer, I looked at the total reorganization items, net for American Airlines, Inc., which was $2,640 million in 2013. Then I found the amount of professional fees listed in the table for that year, which was $199 million. I divided $199 million by $2,640 million and multiplied by 100 to get the percentage, which is 7.5%.</td>\n",
       "      <td>7.5%</td>\n",
       "      <td>['the professional fees of 2013 is 199 ;'\\n 'the total reorganization items net of 2013 is $ 2640 ;']</td>\n",
       "    </tr>\n",
       "    <tr>\n",
       "      <th>266</th>\n",
       "      <td>AAL/2014/page_18.pdf</td>\n",
       "      <td>AAL/2014/page_18.pdf</td>\n",
       "      <td>$25,760 million\\n\\nTo arrive at this answer, I looked at the \"Operating expenses\" section of the \"AMERICAN AIRLINES GROUP INC. CONSOLIDATED STATEMENTS OF OPERATIONS\" table for the year 2013. The total mainline operating expenses for 2013 were $25,760 million.</td>\n",
       "      <td>31381</td>\n",
       "      <td>['year the 2013 ( a ) of gallons is 3608 ; the 2013 ( a ) of average price per gallon is 3.08 ; the 2013 ( a ) of aircraft fuel expense is 11109 ; the 2013 ( a ) of percent of total mainline operating expenses is 35.4 ;']</td>\n",
       "    </tr>\n",
       "    <tr>\n",
       "      <th>908</th>\n",
       "      <td>AAL/2014/page_59.pdf</td>\n",
       "      <td>AAL/2014/page_59.pdf</td>\n",
       "      <td>Answer: 52% \\n\\nExplanation: To find the growth rate on the AMEX Airline Index from 12/31/2013 to 12/31/2014, we compare the values provided in the table. \\n- The value for the AMEX Airline Index on 12/31/2013 was $100. \\n- The value for the AMEX Airline Index on 12/31/2014 was $152. \\n\\nTo calculate the growth rate:\\n- Subtract the initial value from the final value: $152 - $100 = $52\\n- Divide the difference by the initial value: $52 / $100 = 0.52 or 52% \\n\\nTherefore, the growth rate on the AMEX Airline Index from 12/31/2013 to 12/31/2014 was 52%.</td>\n",
       "      <td>49%</td>\n",
       "      <td>['the amex airline index of 12/9/2013 is 100 ; the amex airline index of 12/31/2013 is 102 ; the amex airline index of 12/31/2014 is 152 ;'\\n 'the s&amp;p 500 of 12/9/2013 is 100 ; the s&amp;p 500 of 12/31/2013 is 102 ; the s&amp;p 500 of 12/31/2014 is 114 ;']</td>\n",
       "    </tr>\n",
       "    <tr>\n",
       "      <th>1164</th>\n",
       "      <td>AAL/2014/page_130.pdf</td>\n",
       "      <td>AAL/2014/page_92.pdf</td>\n",
       "      <td>Decreased by $1,626 million.\\n\\nSteps:\\n1. Look at the table of reorganization items, net for American Airlines Group Inc. for the years 2013 and 2012.\\n2. Find the line item for \"Aircraft and facility financing renegotiations and rejections\" for both years.\\n3. Calculate the difference between the amounts for 2012 and 2013 to determine the decrease. \\n   $1,950 million (2012) - $325 million (2013) = $1,626 million</td>\n",
       "      <td>-83.6%</td>\n",
       "      <td>['the aircraft and facility financing renegotiations and rejections ( 2 ) ( 3 ) of 2013 is 320 ; the aircraft and facility financing renegotiations and rejections ( 2 ) ( 3 ) of 2012 is 1951 ;']</td>\n",
       "    </tr>\n",
       "    <tr>\n",
       "      <th>1696</th>\n",
       "      <td>AAL/2014/page_84.pdf</td>\n",
       "      <td>AAL/2014/page_18.pdf</td>\n",
       "      <td>$10,592 million\\n\\nSteps taken:\\n1. Look at the table provided for American Airlines, Inc. consolidated statements of operations for the year ended December 31, 2014.\\n2. Find the line item \"Total operating expenses\" under \"Operating expenses\" section.\\n3. The total mainline operating expenses in 2014 was $10,592 million.</td>\n",
       "      <td>31903.6</td>\n",
       "      <td>['year the 2014 of gallons is 3644 ; the 2014 of average price per gallon is $ 2.91 ; the 2014 of aircraft fuel expense is $ 10592 ; the 2014 of percent of total mainline operating expenses is 33.2% ( 33.2 % ) ;']</td>\n",
       "    </tr>\n",
       "    <tr>\n",
       "      <th>1753</th>\n",
       "      <td>AAL/2014/page_219.pdf</td>\n",
       "      <td>AAL/2014/page_219.pdf</td>\n",
       "      <td>$5 million\\n\\nSteps taken to arrive at the answer:\\n1. Look at the section titled \"NOTES TO CONSOLIDATED FINANCIAL STATEMENTS OF AMERICAN AIRLINES, INC.\"\\n2. Find the section discussing the unrecognized tax benefit at December 31, 2013.\\n3. Note that the unrecognized tax benefit at December 31, 2013 was $5 million.</td>\n",
       "      <td>$ 5</td>\n",
       "      <td>['the unrecognized tax benefit at january 1 of 2014 is $ 5 ; the unrecognized tax benefit at january 1 of 2013 is $ 5 ;']</td>\n",
       "    </tr>\n",
       "    <tr>\n",
       "      <th>2065</th>\n",
       "      <td>AAL/2014/page_130.pdf</td>\n",
       "      <td>AAL/2014/page_89.pdf</td>\n",
       "      <td>Approximately 12%. \\n\\nTo arrive at this answer, I first noted that the total reorganization items net for American Airlines Group Inc. in 2013 was $2,640 million and that the amount related to aircraft and facility financing renegotiations and rejections was $320 million. I then divided $320 million by $2,640 million and multiplied the result by 100 to find the percentage, which is approximately 12%.</td>\n",
       "      <td>12.1%</td>\n",
       "      <td>['the aircraft and facility financing renegotiations and rejections ( 2 ) ( 3 ) of 2013 is 320 ;'\\n 'the total reorganization items net of 2013 is $ 2640 ;']</td>\n",
       "    </tr>\n",
       "    <tr>\n",
       "      <th>2088</th>\n",
       "      <td>AAL/2014/page_92.pdf</td>\n",
       "      <td>AAL/2014/page_92.pdf</td>\n",
       "      <td>$451 million\\n\\nExplanation: \\nTo find the increase in total reorganization items net from 2012 to 2013, we need to subtract the total for 2012 from the total for 2013. \\nTotal reorganization items net for 2013: $2,640 million \\nTotal reorganization items net for 2012: $2,179 million \\n$2,640 million - $2,179 million = $461 million \\nTherefore, the total reorganization items net increased by $461 million from 2012 to 2013.</td>\n",
       "      <td>21.2%</td>\n",
       "      <td>['the total reorganization items net of 2013 is $ 2640 ; the total reorganization items net of 2012 is $ 2179 ;']</td>\n",
       "    </tr>\n",
       "    <tr>\n",
       "      <th>2857</th>\n",
       "      <td>AAL/2014/page_59.pdf</td>\n",
       "      <td>AAL/2014/page_59.pdf</td>\n",
       "      <td>$67</td>\n",
       "      <td>67%</td>\n",
       "      <td>['the american airlines group inc . of 12/9/2013 is $ 100 ; the american airlines group inc . of 12/31/2013 is $ 103 ; the american airlines group inc . of 12/31/2014 is $ 219 ;'\\n 'the amex airline index of 12/9/2013 is 100 ; the amex airline index of 12/31/2013 is 102 ; the amex airline index of 12/31/2014 is 152 ;']</td>\n",
       "    </tr>\n",
       "    <tr>\n",
       "      <th>2858</th>\n",
       "      <td>AAL/2014/page_59.pdf</td>\n",
       "      <td>AAL/2014/page_59.pdf</td>\n",
       "      <td>219</td>\n",
       "      <td>119%</td>\n",
       "      <td>['the american airlines group inc . of 12/9/2013 is $ 100 ; the american airlines group inc . of 12/31/2013 is $ 103 ; the american airlines group inc . of 12/31/2014 is $ 219 ;']</td>\n",
       "    </tr>\n",
       "    <tr>\n",
       "      <th>2936</th>\n",
       "      <td>AAL/2014/page_130.pdf</td>\n",
       "      <td>AAL/2014/page_80.pdf</td>\n",
       "      <td>66.0%\\n\\nTo arrive at this answer, I first identified the total reorganization items for American Airlines Group Inc. in 2013, which was $2,208 million. Then, I found the amount of labor-related deemed claims for the same year, which was $1,733 million. Finally, I calculated the percentage by dividing the labor-related deemed claims by the total reorganization items and multiplying by 100, resulting in 66.0%.</td>\n",
       "      <td>65.3%</td>\n",
       "      <td>['the labor-related deemed claim ( 1 ) of 2013 is $ 1733 ;'\\n 'the total reorganization items net of 2013 is $ 2655 ;']</td>\n",
       "    </tr>\n",
       "    <tr>\n",
       "      <th>3277</th>\n",
       "      <td>AAL/2014/page_201.pdf</td>\n",
       "      <td>AAL/2014/page_92.pdf</td>\n",
       "      <td>20.9%\\n\\nTo find the percentage growth in the total re-organization costs from 2012 to 2013, first, we need to find the total reorganization costs for each year. In 2012, the total reorganization costs were $2,179 million, and in 2013, the total reorganization costs were $2,640 million. \\n\\nNext, we calculate the percentage growth using the formula: \\n((Total reorganization costs in 2013 - Total reorganization costs in 2012) / Total reorganization costs in 2012) * 100\\n\\nPlugging in the values:\\n((2,640 - 2,179) / 2,179) * 100 = 461 / 2,179 * 100 = 0.209 * 100 = 20.9%\\n\\nTherefore, the percentage growth in the total reorganization costs from 2012 to 2013 is 20.9%.</td>\n",
       "      <td>21.2%</td>\n",
       "      <td>['the total reorganization items net of 2013 is $ 2640 ; the total reorganization items net of 2012 is $ 2179 ;']</td>\n",
       "    </tr>\n",
       "    <tr>\n",
       "      <th>3969</th>\n",
       "      <td>AAL/2014/page_130.pdf</td>\n",
       "      <td>AAL/2014/page_89.pdf</td>\n",
       "      <td>Answer: 65%\\n\\nExplanation: To calculate the percentage of the labor-related deemed claim to the total reorganization costs in 2013, we need to add the labor-related deemed claim amount to the other reorganization items and then divide the labor-related deemed claim amount by the total reorganization costs, and finally multiply by 100 to get the percentage. \\n\\nLabor-related deemed claim amount in 2013: $1,733 million\\nTotal reorganization items in 2013: $2,640 million\\n\\nCalculation: ($1,733 million / $2,640 million) x 100 = 65%</td>\n",
       "      <td>65.6%</td>\n",
       "      <td>['the labor-related deemed claim ( 1 ) of 2013 is $ 1733 ;'\\n 'the total reorganization items net of 2013 is $ 2640 ;']</td>\n",
       "    </tr>\n",
       "    <tr>\n",
       "      <th>4162</th>\n",
       "      <td>AAL/2014/page_18.pdf</td>\n",
       "      <td>AAL/2014/page_18.pdf</td>\n",
       "      <td>$43 million</td>\n",
       "      <td>0.41%</td>\n",
       "      <td>['based on our 2015 forecasted mainline and regional fuel consumption , we estimate that , as of december 31 , 2014 , a one cent per gallon increase in aviation fuel price would increase our 2015 annual fuel expense by $ 43 million .'\\n 'year the 2014 of gallons is 3644 ; the 2014 of average price per gallon is $ 2.91 ; the 2014 of aircraft fuel expense is $ 10592 ; the 2014 of percent of total mainline operating expenses is 33.2% ( 33.2 % ) ;']</td>\n",
       "    </tr>\n",
       "    <tr>\n",
       "      <th>4269</th>\n",
       "      <td>AAL/2014/page_202.pdf</td>\n",
       "      <td>AAL/2014/page_80.pdf</td>\n",
       "      <td>Ratio: 8.7:1\\n\\nExplanation: \\n1. Identify the labor-related deemed claim amount: \\n- For American Airlines, the labor-related deemed claim amount was $1,733 million in 2013.\\n- For American Airlines Group Inc., the labor-related deemed claim amount was $1,500 million in an unspecified year.\\n\\n2. Identify the professional fees amount: \\n- For American Airlines, the professional fees amount was $199 million in 2013.\\n- For American Airlines Group Inc., the professional fees amount was $229 million in an unspecified year.\\n\\n3. Calculate the ratio: \\n- For American Airlines: \\n$1,733 million / $199 million ≈ 8.7:1\\n- For American Airlines Group Inc.: \\n$1,500 million / $229 million ≈ 6.5:1\\n\\nBased on the provided context, the ratio of the labor-related deemed claim to the professional fees was approximately 8.7:1 for American Airlines and 6.5:1 for American Airlines Group Inc.</td>\n",
       "      <td>8.7</td>\n",
       "      <td>['the labor-related deemed claim ( 1 ) of 2013 is $ 1733 ;'\\n 'as a result , during the year ended december 31 , 2013 , we recorded reorganization charges to adjust estimated allowed claim amounts previously recorded on rejected special facility revenue bonds of $ 180 million , allowed general unsecured claims related to the 1990 and 1994 series of special facility revenue bonds that financed certain improvements at jfk , and rejected bonds that financed certain improvements at ord , which are included in the table above. .']</td>\n",
       "    </tr>\n",
       "    <tr>\n",
       "      <th>4461</th>\n",
       "      <td>AAL/2014/page_83.pdf</td>\n",
       "      <td>AAL/2014/page_92.pdf</td>\n",
       "      <td>32.3% interest expense to other nonoperating income\\n\\nTo arrive at this answer, I looked at the information provided in the context, specifically the table that breaks down the nonoperating expenses for the year 2013. I then calculated the ratio of interest expense, net of capitalized interest to other nonoperating income related to debt extinguishment and currency losses, which was 32.3%.</td>\n",
       "      <td>8.45</td>\n",
       "      <td>['table of contents interest expense , net of capitalized interest increased $ 64 million , or 9.8% ( 9.8 % ) , to $ 710 million in 2013 from $ 646 million in 2012 primarily due to special charges of $ 92 million to recognize post-petition interest expense on unsecured obligations pursuant to the plan and penalty interest related to 10.5% ( 10.5 % ) secured notes and 7.50% ( 7.50 % ) senior secured notes .'\\n 'other nonoperating expense , net of $ 84 million in 2013 consists principally of net foreign currency losses of $ 55 million and early debt extinguishment charges of $ 48 million .']</td>\n",
       "    </tr>\n",
       "    <tr>\n",
       "      <th>4740</th>\n",
       "      <td>AAL/2014/page_219.pdf</td>\n",
       "      <td>AAL/2014/page_219.pdf</td>\n",
       "      <td>$5 million\\n\\nExplanation: In the provided context, it is mentioned that the unrecognized tax benefit at December 31, 2013 was $5 million. This information is specifically stated in the section \"NOTES TO CONSOLIDATED FINANCIAL STATEMENTS OF AMERICAN AIRLINES, INC.\" under the heading \"Income Taxes.\"</td>\n",
       "      <td>$ 5</td>\n",
       "      <td>['the unrecognized tax benefit at january 1 of 2014 is $ 5 ; the unrecognized tax benefit at january 1 of 2013 is $ 5 ;']</td>\n",
       "    </tr>\n",
       "    <tr>\n",
       "      <th>4989</th>\n",
       "      <td>AAL/2014/page_73.pdf</td>\n",
       "      <td>AAL/2014/page_18.pdf</td>\n",
       "      <td>$10,592 million\\n\\nExplanation: \\nTo find the total mainline operating expenses in 2014, we need to refer to the Consolidated Statements of Operations table provided in the context. The table shows that the mainline operating expenses for 2014 were $10,592 million.</td>\n",
       "      <td>31903</td>\n",
       "      <td>['year the 2014 of gallons is 3644 ; the 2014 of average price per gallon is $ 2.91 ; the 2014 of aircraft fuel expense is $ 10592 ; the 2014 of percent of total mainline operating expenses is 33.2% ( 33.2 % ) ;']</td>\n",
       "    </tr>\n",
       "    <tr>\n",
       "      <th>5474</th>\n",
       "      <td>AAL/2014/page_130.pdf</td>\n",
       "      <td>AAL/2014/page_80.pdf</td>\n",
       "      <td>12.28%\\n\\nTo arrive at this answer, I calculated the percentage by dividing the amount of aircraft and facility financing renegotiations and rejections in 2013 ($320 million) by the total reorganization items net in 2013 ($2,640 million) and then multiplying the result by 100. \\n\\nCalculation: (320 / 2640) * 100 = 12.28%</td>\n",
       "      <td>12.2%</td>\n",
       "      <td>['the aircraft and facility financing renegotiations and rejections ( 2 ) ( 3 ) of 2013 is 325 ;'\\n 'the total reorganization items net of 2013 is $ 2655 ;']</td>\n",
       "    </tr>\n",
       "    <tr>\n",
       "      <th>7725</th>\n",
       "      <td>AAL/2014/page_15.pdf</td>\n",
       "      <td>AAL/2014/page_15.pdf</td>\n",
       "      <td>1.56:1\\n\\nSteps:\\n1. Identify the total number of flight attendants and pilots.\\n   - Flight attendants: 25,400\\n   - Pilots: 16,200\\n2. Calculate the ratio by dividing the total number of flight attendants by the total number of pilots.\\n   - 25,400 / 16,200 = 1.56\\n3. The ratio of flight attendants to pilots is approximately 1.56:1.</td>\n",
       "      <td>1.57</td>\n",
       "      <td>['the flight attendants of american is 15900 ; the flight attendants of us airways is 7700 ; the flight attendants of wholly-owned regional carriers is 1800 ; the flight attendants of total is 25400 ;'\\n 'the pilots of american is 8600 ; the pilots of us airways is 4400 ; the pilots of wholly-owned regional carriers is 3200 ; the pilots of total is 16200 ;']</td>\n",
       "    </tr>\n",
       "    <tr>\n",
       "      <th>7745</th>\n",
       "      <td>AAL/2014/page_16.pdf</td>\n",
       "      <td>AAL/2014/page_15.pdf</td>\n",
       "      <td>25% \\n\\nSteps:\\n1. Look at the table of contents for information on employees and labor relations.\\n2. Find the section that provides the breakdown of different types of employees.\\n3. Locate the row for passenger service personnel.\\n4. Calculate the percentage based on the total number of employees provided in the table.</td>\n",
       "      <td>19.9%</td>\n",
       "      <td>['the passenger service personnel of american is 9100 ; the passenger service personnel of us airways is 6100 ; the passenger service personnel of wholly-owned regional carriers is 7300 ; the passenger service personnel of total is 22500 ;'\\n 'the total of american is 61600 ; the total of us airways is 32800 ; the total of wholly-owned regional carriers is 18900 ; the total of total is 113300 ;']</td>\n",
       "    </tr>\n",
       "    <tr>\n",
       "      <th>7825</th>\n",
       "      <td>AAL/2014/page_15.pdf</td>\n",
       "      <td>AAL/2014/page_15.pdf</td>\n",
       "      <td>56% \\n\\nTo arrive at this answer, I looked at the table provided that shows the breakdown of active full-time equivalent employees by airline subsidiaries. By adding up the number of employees under US Airways Mainline, the International Association of Machinists &amp; Aerospace Workers, and the US Airways Regional Carriers, I found that there were 32,800 employees from US Airways. Dividing this number by the total number of employees for all subsidiaries (113,300) gives a percentage of approximately 56%.</td>\n",
       "      <td>28.9%</td>\n",
       "      <td>['the total of american is 61600 ; the total of us airways is 32800 ; the total of wholly-owned regional carriers is 18900 ; the total of total is 113300 ;']</td>\n",
       "    </tr>\n",
       "    <tr>\n",
       "      <th>7938</th>\n",
       "      <td>AAL/2014/page_15.pdf</td>\n",
       "      <td>AAL/2014/page_15.pdf</td>\n",
       "      <td>Approximately 1.87:1\\n\\nTo arrive at this answer, I looked at the total number of American personnel (61,600) and the total number of US Airways personnel (32,800) given in the context. By dividing the total American personnel by the total US Airways personnel, the ratio is approximately 1.87:1.</td>\n",
       "      <td>1.88</td>\n",
       "      <td>['the total of american is 61600 ; the total of us airways is 32800 ; the total of wholly-owned regional carriers is 18900 ; the total of total is 113300 ;']</td>\n",
       "    </tr>\n",
       "  </tbody>\n",
       "</table>\n",
       "</div>"
      ],
      "text/plain": [
       "          Retrieved Context      Correct Documents  \\\n",
       "15    AAL/2014/page_130.pdf   AAL/2014/page_89.pdf   \n",
       "105   AAL/2014/page_202.pdf   AAL/2014/page_80.pdf   \n",
       "161   AAL/2014/page_201.pdf   AAL/2014/page_89.pdf   \n",
       "266    AAL/2014/page_18.pdf   AAL/2014/page_18.pdf   \n",
       "908    AAL/2014/page_59.pdf   AAL/2014/page_59.pdf   \n",
       "1164  AAL/2014/page_130.pdf   AAL/2014/page_92.pdf   \n",
       "1696   AAL/2014/page_84.pdf   AAL/2014/page_18.pdf   \n",
       "1753  AAL/2014/page_219.pdf  AAL/2014/page_219.pdf   \n",
       "2065  AAL/2014/page_130.pdf   AAL/2014/page_89.pdf   \n",
       "2088   AAL/2014/page_92.pdf   AAL/2014/page_92.pdf   \n",
       "2857   AAL/2014/page_59.pdf   AAL/2014/page_59.pdf   \n",
       "2858   AAL/2014/page_59.pdf   AAL/2014/page_59.pdf   \n",
       "2936  AAL/2014/page_130.pdf   AAL/2014/page_80.pdf   \n",
       "3277  AAL/2014/page_201.pdf   AAL/2014/page_92.pdf   \n",
       "3969  AAL/2014/page_130.pdf   AAL/2014/page_89.pdf   \n",
       "4162   AAL/2014/page_18.pdf   AAL/2014/page_18.pdf   \n",
       "4269  AAL/2014/page_202.pdf   AAL/2014/page_80.pdf   \n",
       "4461   AAL/2014/page_83.pdf   AAL/2014/page_92.pdf   \n",
       "4740  AAL/2014/page_219.pdf  AAL/2014/page_219.pdf   \n",
       "4989   AAL/2014/page_73.pdf   AAL/2014/page_18.pdf   \n",
       "5474  AAL/2014/page_130.pdf   AAL/2014/page_80.pdf   \n",
       "7725   AAL/2014/page_15.pdf   AAL/2014/page_15.pdf   \n",
       "7745   AAL/2014/page_16.pdf   AAL/2014/page_15.pdf   \n",
       "7825   AAL/2014/page_15.pdf   AAL/2014/page_15.pdf   \n",
       "7938   AAL/2014/page_15.pdf   AAL/2014/page_15.pdf   \n",
       "\n",
       "                                                                                                                                                                                                                                                                                                                                                                                                                                                                                                                                                                                                                                                                                                                                                                                                                                                                                                               Generated Answer  \\\n",
       "15                                                                                                                                                                                                                                                                                                                                                                                               Approximately 66% \\n\\nTo arrive at this answer, I looked at the total reorganization items, net for both American Airlines Group Inc. and American Airlines, Inc. for the years ended December 31, 2013. I then calculated the total amount of the labor-related deemed claim for each company and divided it by the total reorganization items, net to find the percentage. For American Airlines Group Inc., the labor-related deemed claim was $1,733 million out of a total of $2,640 million, which is approximately 66%.   \n",
       "105                                                                                                                                                                                                                                                                                                                                                                                                                                                                                                                                                             Approximately 66% \\n\\nTo arrive at this answer, I first identified the labor-related deemed claim amount, which was $1,733 million. Then, I found the total reorganization items, which was $2,640 million. I divided the labor-related deemed claim by the total reorganization items and multiplied by 100 to get the percentage, which is approximately 66%.   \n",
       "161                                                                                                                                                                                                                                                                                                                                                                                                                                                                                                                                                       Answer: 7.5%\\n\\nTo arrive at this answer, I looked at the total reorganization items, net for American Airlines, Inc., which was $2,640 million in 2013. Then I found the amount of professional fees listed in the table for that year, which was $199 million. I divided $199 million by $2,640 million and multiplied by 100 to get the percentage, which is 7.5%.   \n",
       "266                                                                                                                                                                                                                                                                                                                                                                                                                                                                                                                                                                                                                                                         $25,760 million\\n\\nTo arrive at this answer, I looked at the \"Operating expenses\" section of the \"AMERICAN AIRLINES GROUP INC. CONSOLIDATED STATEMENTS OF OPERATIONS\" table for the year 2013. The total mainline operating expenses for 2013 were $25,760 million.   \n",
       "908                                                                                                                                                                                                                                                                                                                                                Answer: 52% \\n\\nExplanation: To find the growth rate on the AMEX Airline Index from 12/31/2013 to 12/31/2014, we compare the values provided in the table. \\n- The value for the AMEX Airline Index on 12/31/2013 was $100. \\n- The value for the AMEX Airline Index on 12/31/2014 was $152. \\n\\nTo calculate the growth rate:\\n- Subtract the initial value from the final value: $152 - $100 = $52\\n- Divide the difference by the initial value: $52 / $100 = 0.52 or 52% \\n\\nTherefore, the growth rate on the AMEX Airline Index from 12/31/2013 to 12/31/2014 was 52%.   \n",
       "1164                                                                                                                                                                                                                                                                                                                                                                                                                                                                                         Decreased by $1,626 million.\\n\\nSteps:\\n1. Look at the table of reorganization items, net for American Airlines Group Inc. for the years 2013 and 2012.\\n2. Find the line item for \"Aircraft and facility financing renegotiations and rejections\" for both years.\\n3. Calculate the difference between the amounts for 2012 and 2013 to determine the decrease. \\n   $1,950 million (2012) - $325 million (2013) = $1,626 million   \n",
       "1696                                                                                                                                                                                                                                                                                                                                                                                                                                                                                                                                                                                        $10,592 million\\n\\nSteps taken:\\n1. Look at the table provided for American Airlines, Inc. consolidated statements of operations for the year ended December 31, 2014.\\n2. Find the line item \"Total operating expenses\" under \"Operating expenses\" section.\\n3. The total mainline operating expenses in 2014 was $10,592 million.   \n",
       "1753                                                                                                                                                                                                                                                                                                                                                                                                                                                                                                                                                                                               $5 million\\n\\nSteps taken to arrive at the answer:\\n1. Look at the section titled \"NOTES TO CONSOLIDATED FINANCIAL STATEMENTS OF AMERICAN AIRLINES, INC.\"\\n2. Find the section discussing the unrecognized tax benefit at December 31, 2013.\\n3. Note that the unrecognized tax benefit at December 31, 2013 was $5 million.   \n",
       "2065                                                                                                                                                                                                                                                                                                                                                                                                                                                                                                       Approximately 12%. \\n\\nTo arrive at this answer, I first noted that the total reorganization items net for American Airlines Group Inc. in 2013 was $2,640 million and that the amount related to aircraft and facility financing renegotiations and rejections was $320 million. I then divided $320 million by $2,640 million and multiplied the result by 100 to find the percentage, which is approximately 12%.   \n",
       "2088                                                                                                                                                                                                                                                                                                                                                                                                                                                                                 $451 million\\n\\nExplanation: \\nTo find the increase in total reorganization items net from 2012 to 2013, we need to subtract the total for 2012 from the total for 2013. \\nTotal reorganization items net for 2013: $2,640 million \\nTotal reorganization items net for 2012: $2,179 million \\n$2,640 million - $2,179 million = $461 million \\nTherefore, the total reorganization items net increased by $461 million from 2012 to 2013.   \n",
       "2857                                                                                                                                                                                                                                                                                                                                                                                                                                                                                                                                                                                                                                                                                                                                                                                                                                                                                                                        $67   \n",
       "2858                                                                                                                                                                                                                                                                                                                                                                                                                                                                                                                                                                                                                                                                                                                                                                                                                                                                                                                        219   \n",
       "2936                                                                                                                                                                                                                                                                                                                                                                                                                                                                                               66.0%\\n\\nTo arrive at this answer, I first identified the total reorganization items for American Airlines Group Inc. in 2013, which was $2,208 million. Then, I found the amount of labor-related deemed claims for the same year, which was $1,733 million. Finally, I calculated the percentage by dividing the labor-related deemed claims by the total reorganization items and multiplying by 100, resulting in 66.0%.   \n",
       "3277                                                                                                                                                                                                                           20.9%\\n\\nTo find the percentage growth in the total re-organization costs from 2012 to 2013, first, we need to find the total reorganization costs for each year. In 2012, the total reorganization costs were $2,179 million, and in 2013, the total reorganization costs were $2,640 million. \\n\\nNext, we calculate the percentage growth using the formula: \\n((Total reorganization costs in 2013 - Total reorganization costs in 2012) / Total reorganization costs in 2012) * 100\\n\\nPlugging in the values:\\n((2,640 - 2,179) / 2,179) * 100 = 461 / 2,179 * 100 = 0.209 * 100 = 20.9%\\n\\nTherefore, the percentage growth in the total reorganization costs from 2012 to 2013 is 20.9%.   \n",
       "3969                                                                                                                                                                                                                                                                                                                                                                    Answer: 65%\\n\\nExplanation: To calculate the percentage of the labor-related deemed claim to the total reorganization costs in 2013, we need to add the labor-related deemed claim amount to the other reorganization items and then divide the labor-related deemed claim amount by the total reorganization costs, and finally multiply by 100 to get the percentage. \\n\\nLabor-related deemed claim amount in 2013: $1,733 million\\nTotal reorganization items in 2013: $2,640 million\\n\\nCalculation: ($1,733 million / $2,640 million) x 100 = 65%   \n",
       "4162                                                                                                                                                                                                                                                                                                                                                                                                                                                                                                                                                                                                                                                                                                                                                                                                                                                                                                                $43 million   \n",
       "4269  Ratio: 8.7:1\\n\\nExplanation: \\n1. Identify the labor-related deemed claim amount: \\n- For American Airlines, the labor-related deemed claim amount was $1,733 million in 2013.\\n- For American Airlines Group Inc., the labor-related deemed claim amount was $1,500 million in an unspecified year.\\n\\n2. Identify the professional fees amount: \\n- For American Airlines, the professional fees amount was $199 million in 2013.\\n- For American Airlines Group Inc., the professional fees amount was $229 million in an unspecified year.\\n\\n3. Calculate the ratio: \\n- For American Airlines: \\n$1,733 million / $199 million ≈ 8.7:1\\n- For American Airlines Group Inc.: \\n$1,500 million / $229 million ≈ 6.5:1\\n\\nBased on the provided context, the ratio of the labor-related deemed claim to the professional fees was approximately 8.7:1 for American Airlines and 6.5:1 for American Airlines Group Inc.   \n",
       "4461                                                                                                                                                                                                                                                                                                                                                                                                                                                                                                                  32.3% interest expense to other nonoperating income\\n\\nTo arrive at this answer, I looked at the information provided in the context, specifically the table that breaks down the nonoperating expenses for the year 2013. I then calculated the ratio of interest expense, net of capitalized interest to other nonoperating income related to debt extinguishment and currency losses, which was 32.3%.   \n",
       "4740                                                                                                                                                                                                                                                                                                                                                                                                                                                                                                                                                                                                                $5 million\\n\\nExplanation: In the provided context, it is mentioned that the unrecognized tax benefit at December 31, 2013 was $5 million. This information is specifically stated in the section \"NOTES TO CONSOLIDATED FINANCIAL STATEMENTS OF AMERICAN AIRLINES, INC.\" under the heading \"Income Taxes.\"   \n",
       "4989                                                                                                                                                                                                                                                                                                                                                                                                                                                                                                                                                                                                                                                  $10,592 million\\n\\nExplanation: \\nTo find the total mainline operating expenses in 2014, we need to refer to the Consolidated Statements of Operations table provided in the context. The table shows that the mainline operating expenses for 2014 were $10,592 million.   \n",
       "5474                                                                                                                                                                                                                                                                                                                                                                                                                                                                                                                                                                                         12.28%\\n\\nTo arrive at this answer, I calculated the percentage by dividing the amount of aircraft and facility financing renegotiations and rejections in 2013 ($320 million) by the total reorganization items net in 2013 ($2,640 million) and then multiplying the result by 100. \\n\\nCalculation: (320 / 2640) * 100 = 12.28%   \n",
       "7725                                                                                                                                                                                                                                                                                                                                                                                                                                                                                                                                                                           1.56:1\\n\\nSteps:\\n1. Identify the total number of flight attendants and pilots.\\n   - Flight attendants: 25,400\\n   - Pilots: 16,200\\n2. Calculate the ratio by dividing the total number of flight attendants by the total number of pilots.\\n   - 25,400 / 16,200 = 1.56\\n3. The ratio of flight attendants to pilots is approximately 1.56:1.   \n",
       "7745                                                                                                                                                                                                                                                                                                                                                                                                                                                                                                                                                                                        25% \\n\\nSteps:\\n1. Look at the table of contents for information on employees and labor relations.\\n2. Find the section that provides the breakdown of different types of employees.\\n3. Locate the row for passenger service personnel.\\n4. Calculate the percentage based on the total number of employees provided in the table.   \n",
       "7825                                                                                                                                                                                                                                                                                                                                                                                                 56% \\n\\nTo arrive at this answer, I looked at the table provided that shows the breakdown of active full-time equivalent employees by airline subsidiaries. By adding up the number of employees under US Airways Mainline, the International Association of Machinists & Aerospace Workers, and the US Airways Regional Carriers, I found that there were 32,800 employees from US Airways. Dividing this number by the total number of employees for all subsidiaries (113,300) gives a percentage of approximately 56%.   \n",
       "7938                                                                                                                                                                                                                                                                                                                                                                                                                                                                                                                                                                                                                   Approximately 1.87:1\\n\\nTo arrive at this answer, I looked at the total number of American personnel (61,600) and the total number of US Airways personnel (32,800) given in the context. By dividing the total American personnel by the total US Airways personnel, the ratio is approximately 1.87:1.   \n",
       "\n",
       "     Correct Answer  \\\n",
       "15            65.6%   \n",
       "105           65.3%   \n",
       "161            7.5%   \n",
       "266           31381   \n",
       "908             49%   \n",
       "1164         -83.6%   \n",
       "1696        31903.6   \n",
       "1753            $ 5   \n",
       "2065          12.1%   \n",
       "2088          21.2%   \n",
       "2857            67%   \n",
       "2858           119%   \n",
       "2936          65.3%   \n",
       "3277          21.2%   \n",
       "3969          65.6%   \n",
       "4162          0.41%   \n",
       "4269            8.7   \n",
       "4461           8.45   \n",
       "4740            $ 5   \n",
       "4989          31903   \n",
       "5474          12.2%   \n",
       "7725           1.57   \n",
       "7745          19.9%   \n",
       "7825          28.9%   \n",
       "7938           1.88   \n",
       "\n",
       "                                                                                                                                                                                                                                                                                                                                                                                                                                                                                                                                                                                                            Golden Context  \n",
       "15                                                                                                                                                                                                                                                                                                                                                                                                                                                                                                 ['the labor-related deemed claim ( 1 ) of 2013 is $ 1733 ;'\\n 'the total reorganization items net of 2013 is $ 2640 ;']  \n",
       "105                                                                                                                                                                                                                                                                                                                                                                                                                                                                                                ['the labor-related deemed claim ( 1 ) of 2013 is $ 1733 ;'\\n 'the total reorganization items net of 2013 is $ 2655 ;']  \n",
       "161                                                                                                                                                                                                                                                                                                                                                                                                                                                                                                                  ['the professional fees of 2013 is 199 ;'\\n 'the total reorganization items net of 2013 is $ 2640 ;']  \n",
       "266                                                                                                                                                                                                                                                                                                                                                                                          ['year the 2013 ( a ) of gallons is 3608 ; the 2013 ( a ) of average price per gallon is 3.08 ; the 2013 ( a ) of aircraft fuel expense is 11109 ; the 2013 ( a ) of percent of total mainline operating expenses is 35.4 ;']  \n",
       "908                                                                                                                                                                                                                                                                                                                                                               ['the amex airline index of 12/9/2013 is 100 ; the amex airline index of 12/31/2013 is 102 ; the amex airline index of 12/31/2014 is 152 ;'\\n 'the s&p 500 of 12/9/2013 is 100 ; the s&p 500 of 12/31/2013 is 102 ; the s&p 500 of 12/31/2014 is 114 ;']  \n",
       "1164                                                                                                                                                                                                                                                                                                                                                                                                                    ['the aircraft and facility financing renegotiations and rejections ( 2 ) ( 3 ) of 2013 is 320 ; the aircraft and facility financing renegotiations and rejections ( 2 ) ( 3 ) of 2012 is 1951 ;']  \n",
       "1696                                                                                                                                                                                                                                                                                                                                                                                                 ['year the 2014 of gallons is 3644 ; the 2014 of average price per gallon is $ 2.91 ; the 2014 of aircraft fuel expense is $ 10592 ; the 2014 of percent of total mainline operating expenses is 33.2% ( 33.2 % ) ;']  \n",
       "1753                                                                                                                                                                                                                                                                                                                                                                                                                                                                                             ['the unrecognized tax benefit at january 1 of 2014 is $ 5 ; the unrecognized tax benefit at january 1 of 2013 is $ 5 ;']  \n",
       "2065                                                                                                                                                                                                                                                                                                                                                                                                                                                         ['the aircraft and facility financing renegotiations and rejections ( 2 ) ( 3 ) of 2013 is 320 ;'\\n 'the total reorganization items net of 2013 is $ 2640 ;']  \n",
       "2088                                                                                                                                                                                                                                                                                                                                                                                                                                                                                                     ['the total reorganization items net of 2013 is $ 2640 ; the total reorganization items net of 2012 is $ 2179 ;']  \n",
       "2857                                                                                                                                                                                                                                                                                      ['the american airlines group inc . of 12/9/2013 is $ 100 ; the american airlines group inc . of 12/31/2013 is $ 103 ; the american airlines group inc . of 12/31/2014 is $ 219 ;'\\n 'the amex airline index of 12/9/2013 is 100 ; the amex airline index of 12/31/2013 is 102 ; the amex airline index of 12/31/2014 is 152 ;']  \n",
       "2858                                                                                                                                                                                                                                                                                                                                                                                                                                   ['the american airlines group inc . of 12/9/2013 is $ 100 ; the american airlines group inc . of 12/31/2013 is $ 103 ; the american airlines group inc . of 12/31/2014 is $ 219 ;']  \n",
       "2936                                                                                                                                                                                                                                                                                                                                                                                                                                                                                               ['the labor-related deemed claim ( 1 ) of 2013 is $ 1733 ;'\\n 'the total reorganization items net of 2013 is $ 2655 ;']  \n",
       "3277                                                                                                                                                                                                                                                                                                                                                                                                                                                                                                     ['the total reorganization items net of 2013 is $ 2640 ; the total reorganization items net of 2012 is $ 2179 ;']  \n",
       "3969                                                                                                                                                                                                                                                                                                                                                                                                                                                                                               ['the labor-related deemed claim ( 1 ) of 2013 is $ 1733 ;'\\n 'the total reorganization items net of 2013 is $ 2640 ;']  \n",
       "4162                                                                                                                                                     ['based on our 2015 forecasted mainline and regional fuel consumption , we estimate that , as of december 31 , 2014 , a one cent per gallon increase in aviation fuel price would increase our 2015 annual fuel expense by $ 43 million .'\\n 'year the 2014 of gallons is 3644 ; the 2014 of average price per gallon is $ 2.91 ; the 2014 of aircraft fuel expense is $ 10592 ; the 2014 of percent of total mainline operating expenses is 33.2% ( 33.2 % ) ;']  \n",
       "4269                                                                   ['the labor-related deemed claim ( 1 ) of 2013 is $ 1733 ;'\\n 'as a result , during the year ended december 31 , 2013 , we recorded reorganization charges to adjust estimated allowed claim amounts previously recorded on rejected special facility revenue bonds of $ 180 million , allowed general unsecured claims related to the 1990 and 1994 series of special facility revenue bonds that financed certain improvements at jfk , and rejected bonds that financed certain improvements at ord , which are included in the table above. .']  \n",
       "4461  ['table of contents interest expense , net of capitalized interest increased $ 64 million , or 9.8% ( 9.8 % ) , to $ 710 million in 2013 from $ 646 million in 2012 primarily due to special charges of $ 92 million to recognize post-petition interest expense on unsecured obligations pursuant to the plan and penalty interest related to 10.5% ( 10.5 % ) secured notes and 7.50% ( 7.50 % ) senior secured notes .'\\n 'other nonoperating expense , net of $ 84 million in 2013 consists principally of net foreign currency losses of $ 55 million and early debt extinguishment charges of $ 48 million .']  \n",
       "4740                                                                                                                                                                                                                                                                                                                                                                                                                                                                                             ['the unrecognized tax benefit at january 1 of 2014 is $ 5 ; the unrecognized tax benefit at january 1 of 2013 is $ 5 ;']  \n",
       "4989                                                                                                                                                                                                                                                                                                                                                                                                 ['year the 2014 of gallons is 3644 ; the 2014 of average price per gallon is $ 2.91 ; the 2014 of aircraft fuel expense is $ 10592 ; the 2014 of percent of total mainline operating expenses is 33.2% ( 33.2 % ) ;']  \n",
       "5474                                                                                                                                                                                                                                                                                                                                                                                                                                                         ['the aircraft and facility financing renegotiations and rejections ( 2 ) ( 3 ) of 2013 is 325 ;'\\n 'the total reorganization items net of 2013 is $ 2655 ;']  \n",
       "7725                                                                                                                                                                                                                                              ['the flight attendants of american is 15900 ; the flight attendants of us airways is 7700 ; the flight attendants of wholly-owned regional carriers is 1800 ; the flight attendants of total is 25400 ;'\\n 'the pilots of american is 8600 ; the pilots of us airways is 4400 ; the pilots of wholly-owned regional carriers is 3200 ; the pilots of total is 16200 ;']  \n",
       "7745                                                                                                                                                                                                       ['the passenger service personnel of american is 9100 ; the passenger service personnel of us airways is 6100 ; the passenger service personnel of wholly-owned regional carriers is 7300 ; the passenger service personnel of total is 22500 ;'\\n 'the total of american is 61600 ; the total of us airways is 32800 ; the total of wholly-owned regional carriers is 18900 ; the total of total is 113300 ;']  \n",
       "7825                                                                                                                                                                                                                                                                                                                                                                                                                                                         ['the total of american is 61600 ; the total of us airways is 32800 ; the total of wholly-owned regional carriers is 18900 ; the total of total is 113300 ;']  \n",
       "7938                                                                                                                                                                                                                                                                                                                                                                                                                                                         ['the total of american is 61600 ; the total of us airways is 32800 ; the total of wholly-owned regional carriers is 18900 ; the total of total is 113300 ;']  "
      ]
     },
     "execution_count": 15,
     "metadata": {},
     "output_type": "execute_result"
    }
   ],
   "source": [
    "results = pd.read_csv('vanilla.csv', index_col=0)\n",
    "results[\"Correct Documents\"] = results[\"Correct Documents\"].apply(lambda x : x.split(\"-\")[0])\n",
    "results"
   ]
  },
  {
   "cell_type": "code",
   "execution_count": 16,
   "metadata": {},
   "outputs": [
    {
     "name": "stdout",
     "output_type": "stream",
     "text": [
      "AAL/2014/page_89.pdf AAL/2014/page_130.pdf\n",
      "AAL/2014/page_80.pdf AAL/2014/page_202.pdf\n",
      "AAL/2014/page_89.pdf AAL/2014/page_201.pdf\n",
      "AAL/2014/page_92.pdf AAL/2014/page_130.pdf\n",
      "AAL/2014/page_18.pdf AAL/2014/page_84.pdf\n",
      "AAL/2014/page_89.pdf AAL/2014/page_130.pdf\n",
      "AAL/2014/page_80.pdf AAL/2014/page_130.pdf\n",
      "AAL/2014/page_92.pdf AAL/2014/page_201.pdf\n",
      "AAL/2014/page_89.pdf AAL/2014/page_130.pdf\n",
      "AAL/2014/page_80.pdf AAL/2014/page_202.pdf\n",
      "AAL/2014/page_92.pdf AAL/2014/page_83.pdf\n",
      "AAL/2014/page_18.pdf AAL/2014/page_73.pdf\n",
      "AAL/2014/page_80.pdf AAL/2014/page_130.pdf\n",
      "AAL/2014/page_15.pdf AAL/2014/page_16.pdf\n",
      "0.44\n"
     ]
    }
   ],
   "source": [
    "correct = 0\n",
    "for idx in results.index:\n",
    "    if results.loc[idx, \"Correct Documents\"] == results.loc[idx, \"Retrieved Context\"]:\n",
    "        correct += 1\n",
    "    else:\n",
    "        print(results.loc[idx, \"Correct Documents\"], results.loc[idx, \"Retrieved Context\"])\n",
    "\n",
    "print(correct / len(results[\"Retrieved Context\"]))"
   ]
  },
  {
   "cell_type": "code",
   "execution_count": 7,
   "metadata": {},
   "outputs": [
    {
     "name": "stdout",
     "output_type": "stream",
     "text": [
      "15    ['the labor-related deemed claim ( 1 ) of 2013 is $ 1733 ;'\\n 'the total reorganization items net of 2013 is $ 2640 ;']\n",
      "Name: Golden Context, dtype: object\n",
      "15    65.6%\n",
      "Name: Correct Answer, dtype: object\n",
      "15    Approximately 66% \\n\\nTo arrive at this answer, I looked at the total reorganization items, net for both American Airlines Group Inc. and American Airlines, Inc. for the years ended December 31, 2013. I then calculated the total amount of the labor-related deemed claim for each company and divided it by the total reorganization items, net to find the percentage. For American Airlines Group Inc., the labor-related deemed claim was $1,733 million out of a total of $2,640 million, which is approximately 66%.\n",
      "Name: Generated Answer, dtype: object\n"
     ]
    }
   ],
   "source": [
    "generated = results[\"Generated Answer\"]\n",
    "expected = results[\"Correct Answer\"]\n",
    "golden_context = results[\"Golden Context\"]\n",
    "\n",
    "print(golden_context.head(1))\n",
    "print(expected.head(1))\n",
    "print(generated.head(1))\n"
   ]
  },
  {
   "cell_type": "code",
   "execution_count": 8,
   "metadata": {},
   "outputs": [
    {
     "data": {
      "application/vnd.jupyter.widget-view+json": {
       "model_id": "f8b8692469d74eb591a4a3289d55c2de",
       "version_major": 2,
       "version_minor": 0
      },
      "text/plain": [
       "Output()"
      ]
     },
     "metadata": {},
     "output_type": "display_data"
    },
    {
     "data": {
      "text/html": [
       "<pre style=\"white-space:pre;overflow-x:auto;line-height:normal;font-family:Menlo,'DejaVu Sans Mono',consolas,'Courier New',monospace\">Event loop is already running. Applying nest_asyncio patch to allow async execution...\n",
       "</pre>\n"
      ],
      "text/plain": [
       "Event loop is already running. Applying nest_asyncio patch to allow async execution...\n"
      ]
     },
     "metadata": {},
     "output_type": "display_data"
    },
    {
     "data": {
      "text/html": [
       "<pre style=\"white-space:pre;overflow-x:auto;line-height:normal;font-family:Menlo,'DejaVu Sans Mono',consolas,'Courier New',monospace\"></pre>\n"
      ],
      "text/plain": []
     },
     "metadata": {},
     "output_type": "display_data"
    }
   ],
   "source": [
    "test_case = LLMTestCase(\n",
    "    input=golden_context.iloc[3],\n",
    "    actual_output=generated.iloc[3],\n",
    "    expected_output=expected.iloc[3],\n",
    ")\n",
    "\n",
    "correctness_metric.measure(test_case)"
   ]
  },
  {
   "cell_type": "code",
   "execution_count": 9,
   "metadata": {},
   "outputs": [
    {
     "name": "stdout",
     "output_type": "stream",
     "text": [
      "0.11023543634060554\n",
      "The actual output provides a total operating expense figure that is not mentioned in the input, which focuses on fuel expense details.\n"
     ]
    }
   ],
   "source": [
    "print(correctness_metric.score)\n",
    "print(correctness_metric.reason)"
   ]
  },
  {
   "cell_type": "markdown",
   "metadata": {},
   "source": [
    "# Colpali RAG"
   ]
  },
  {
   "cell_type": "code",
   "execution_count": 10,
   "metadata": {},
   "outputs": [],
   "source": [
    "results = pd.read_csv(\"colpali.csv\", index_col=0)\n",
    "results[\"Correct Documents\"] = results[\"Correct Documents\"].apply(lambda x : x.split(\"-\")[0])"
   ]
  },
  {
   "cell_type": "code",
   "execution_count": 11,
   "metadata": {},
   "outputs": [
    {
     "name": "stdout",
     "output_type": "stream",
     "text": [
      "AAL/2014/page_89.pdf AAL/2014/page_80.pdf\n",
      "AAL/2014/page_89.pdf AAL/2014/page_130.pdf\n",
      "AAL/2014/page_18.pdf AAL/2014/page_84.pdf\n",
      "AAL/2014/page_89.pdf AAL/2014/page_80.pdf\n",
      "AAL/2014/page_92.pdf AAL/2014/page_130.pdf\n",
      "AAL/2014/page_89.pdf AAL/2014/page_80.pdf\n",
      "AAL/2014/page_92.pdf AAL/2014/page_83.pdf\n",
      "AAL/2014/page_15.pdf AAL/2014/page_16.pdf\n",
      "0.68\n"
     ]
    }
   ],
   "source": [
    "correct = 0\n",
    "for idx in results.index:\n",
    "    if results.loc[idx, \"Correct Documents\"] == results.loc[idx, \"Retrieved Context\"]:\n",
    "        correct += 1\n",
    "    else:\n",
    "        print(results.loc[idx, \"Correct Documents\"], results.loc[idx, \"Retrieved Context\"])\n",
    "\n",
    "print(correct / len(results[\"Retrieved Context\"]))"
   ]
  },
  {
   "cell_type": "code",
   "execution_count": 12,
   "metadata": {},
   "outputs": [
    {
     "name": "stdout",
     "output_type": "stream",
     "text": [
      "15    ['the labor-related deemed claim ( 1 ) of 2013 is $ 1733 ;'\\n 'the total reorganization items net of 2013 is $ 2640 ;']\n",
      "Name: Golden Context, dtype: object\n",
      "15    65.6%\n",
      "Name: Correct Answer, dtype: object\n",
      "15    65%\\n\\n**Steps:**\\n\\n1. Locate the section titled \"Reorganization Items, Net\" in the table.\\n2. Identify the \"Labor-related deemed claim\" amount: $1,733 million.\\n3. Find the \"Total reorganization items, net\": $2,655 million.\\n4. Calculate the percentage: \\((1,733 / 2,655) \\times 100 = 65.27\\%\\).\\n5. Round to two significant figures: 65%.\n",
      "Name: Generated Answer, dtype: object\n"
     ]
    }
   ],
   "source": [
    "generated = results[\"Generated Answer\"]\n",
    "expected = results[\"Correct Answer\"]\n",
    "golden_context = results[\"Golden Context\"]\n",
    "\n",
    "print(golden_context.head(1))\n",
    "print(expected.head(1))\n",
    "print(generated.head(1))"
   ]
  },
  {
   "cell_type": "code",
   "execution_count": 13,
   "metadata": {},
   "outputs": [
    {
     "data": {
      "application/vnd.jupyter.widget-view+json": {
       "model_id": "6fc1fcdb9b4d4553b3c975e32fa0028a",
       "version_major": 2,
       "version_minor": 0
      },
      "text/plain": [
       "Output()"
      ]
     },
     "metadata": {},
     "output_type": "display_data"
    },
    {
     "data": {
      "text/html": [
       "<pre style=\"white-space:pre;overflow-x:auto;line-height:normal;font-family:Menlo,'DejaVu Sans Mono',consolas,'Courier New',monospace\">Event loop is already running. Applying nest_asyncio patch to allow async execution...\n",
       "</pre>\n"
      ],
      "text/plain": [
       "Event loop is already running. Applying nest_asyncio patch to allow async execution...\n"
      ]
     },
     "metadata": {},
     "output_type": "display_data"
    },
    {
     "data": {
      "text/html": [
       "<pre style=\"white-space:pre;overflow-x:auto;line-height:normal;font-family:Menlo,'DejaVu Sans Mono',consolas,'Courier New',monospace\"></pre>\n"
      ],
      "text/plain": []
     },
     "metadata": {},
     "output_type": "display_data"
    }
   ],
   "source": [
    "test_case = LLMTestCase(\n",
    "    input=golden_context.iloc[3],\n",
    "    actual_output=generated.iloc[3],\n",
    "    expected_output=expected.iloc[3],\n",
    ")\n",
    "\n",
    "correctness_metric.measure(test_case)"
   ]
  },
  {
   "cell_type": "code",
   "execution_count": 14,
   "metadata": {},
   "outputs": [
    {
     "name": "stdout",
     "output_type": "stream",
     "text": [
      "0.01937513503406006\n",
      "The actual output of $282 million does not align with any context or figures provided in the input.\n"
     ]
    }
   ],
   "source": [
    "print(correctness_metric.score)\n",
    "print(correctness_metric.reason)"
   ]
  },
  {
   "cell_type": "markdown",
   "metadata": {},
   "source": [
    "# Hybrid RAG"
   ]
  },
  {
   "cell_type": "code",
   "execution_count": null,
   "metadata": {},
   "outputs": [],
   "source": []
  }
 ],
 "metadata": {
  "kernelspec": {
   "display_name": ".venv",
   "language": "python",
   "name": "python3"
  },
  "language_info": {
   "codemirror_mode": {
    "name": "ipython",
    "version": 3
   },
   "file_extension": ".py",
   "mimetype": "text/x-python",
   "name": "python",
   "nbconvert_exporter": "python",
   "pygments_lexer": "ipython3",
   "version": "3.12.7"
  }
 },
 "nbformat": 4,
 "nbformat_minor": 2
}
