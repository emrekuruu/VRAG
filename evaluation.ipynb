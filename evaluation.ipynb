{
 "cells": [
  {
   "cell_type": "code",
   "execution_count": 31,
   "metadata": {},
   "outputs": [],
   "source": [
    "import pandas as pd\n",
    "import ast\n",
    "import os\n",
    "\n",
    "from deepeval.metrics import GEval\n",
    "from deepeval.test_case import LLMTestCaseParams, LLMTestCase"
   ]
  },
  {
   "cell_type": "code",
   "execution_count": 32,
   "metadata": {},
   "outputs": [],
   "source": [
    "with open(\"keys/openai_api_key.txt\", \"r\") as file:\n",
    "    openai_key = file.read().strip()\n",
    "\n",
    "os.environ[\"OPENAI_API_KEY\"] = openai_key"
   ]
  },
  {
   "cell_type": "code",
   "execution_count": 33,
   "metadata": {},
   "outputs": [],
   "source": [
    "correctness_metric = GEval(\n",
    "    name=\"Correctness\",\n",
    "    criteria=\"Given the correct context and the actual answer. Determine whether the actual output is factually correct based on the expected output.\",\n",
    "    evaluation_params=[LLMTestCaseParams.INPUT, LLMTestCaseParams.ACTUAL_OUTPUT],\n",
    "    verbose_mode=False,\n",
    ")"
   ]
  },
  {
   "cell_type": "markdown",
   "metadata": {},
   "source": [
    "# Vanilla RAG"
   ]
  },
  {
   "cell_type": "code",
   "execution_count": 34,
   "metadata": {},
   "outputs": [],
   "source": [
    "pd.set_option(\"display.max_colwidth\", None)"
   ]
  },
  {
   "cell_type": "code",
   "execution_count": 35,
   "metadata": {},
   "outputs": [],
   "source": [
    "results = pd.read_csv('vanilla.csv', index_col=0)\n",
    "results[\"Correct Documents\"] = results[\"Correct Documents\"].apply(lambda x : x.split(\"-\")[0])"
   ]
  },
  {
   "cell_type": "code",
   "execution_count": 36,
   "metadata": {},
   "outputs": [
    {
     "name": "stdout",
     "output_type": "stream",
     "text": [
      "AAL/2014/page_89.pdf AAL/2014/page_130.pdf\n",
      "AAL/2014/page_80.pdf AAL/2014/page_130.pdf\n",
      "AAL/2014/page_89.pdf AAL/2014/page_201.pdf\n",
      "AAL/2014/page_92.pdf AAL/2014/page_130.pdf\n",
      "AAL/2014/page_18.pdf AAL/2014/page_84.pdf\n",
      "AAL/2014/page_89.pdf AAL/2014/page_130.pdf\n",
      "AAL/2014/page_80.pdf AAL/2014/page_130.pdf\n",
      "AAL/2014/page_92.pdf AAL/2014/page_201.pdf\n",
      "AAL/2014/page_89.pdf AAL/2014/page_130.pdf\n",
      "AAL/2014/page_80.pdf AAL/2014/page_130.pdf\n",
      "AAL/2014/page_92.pdf AAL/2014/page_83.pdf\n",
      "AAL/2014/page_18.pdf AAL/2014/page_73.pdf\n",
      "AAL/2014/page_80.pdf AAL/2014/page_130.pdf\n",
      "AAL/2014/page_15.pdf AAL/2014/page_16.pdf\n",
      "AAL/2014/page_15.pdf AAL/2014/page_16.pdf\n",
      "AAL/2014/page_15.pdf AAL/2014/page_16.pdf\n",
      "AAL/2014/page_15.pdf AAL/2014/page_16.pdf\n",
      "\n",
      "0.32\n"
     ]
    }
   ],
   "source": [
    "correct = 0\n",
    "for idx in results.index:\n",
    "    if results.loc[idx, \"Correct Documents\"] == results.loc[idx, \"Retrieved Context\"]:\n",
    "        correct += 1\n",
    "    else:\n",
    "        print(results.loc[idx, \"Correct Documents\"], results.loc[idx, \"Retrieved Context\"])\n",
    "\n",
    "print()\n",
    "print(correct / len(results[\"Retrieved Context\"]))"
   ]
  },
  {
   "cell_type": "code",
   "execution_count": null,
   "metadata": {},
   "outputs": [],
   "source": [
    "for idx, row in results.iterrows():\n",
    "    \n",
    "    input_text = row[\"Golden Context\"]\n",
    "    actual_output = row[\"Generated Answer\"]\n",
    "    expected_output = row[\"Correct Answer\"]\n",
    "\n",
    "    test_case = LLMTestCase(\n",
    "        input=input_text,\n",
    "        actual_output=actual_output,\n",
    "        expected_output=expected_output,\n",
    "    )\n",
    "    \n",
    "    correctness_metric.measure(test_case)\n",
    "\n",
    "    results.loc[idx, \"Correctness Score\"] = correctness_metric.score\n",
    "    results.loc[idx, \"Correctness Reasoning\"] = correctness_metric.reason"
   ]
  },
  {
   "cell_type": "code",
   "execution_count": null,
   "metadata": {},
   "outputs": [],
   "source": [
    "results.to_csv(\"eval_vanilla.csv\")"
   ]
  },
  {
   "cell_type": "markdown",
   "metadata": {},
   "source": [
    "# Colpali RAG"
   ]
  },
  {
   "cell_type": "code",
   "execution_count": 19,
   "metadata": {},
   "outputs": [],
   "source": [
    "results = pd.read_csv(\"colpali.csv\", index_col=0)\n",
    "results[\"Correct Documents\"] = results[\"Correct Documents\"].apply(lambda x : x.split(\"-\")[0])"
   ]
  },
  {
   "cell_type": "code",
   "execution_count": 20,
   "metadata": {},
   "outputs": [
    {
     "name": "stdout",
     "output_type": "stream",
     "text": [
      "AAL/2014/page_89.pdf AAL/2014/page_80.pdf\n",
      "AAL/2014/page_89.pdf AAL/2014/page_130.pdf\n",
      "AAL/2014/page_18.pdf AAL/2014/page_84.pdf\n",
      "AAL/2014/page_89.pdf AAL/2014/page_80.pdf\n",
      "AAL/2014/page_92.pdf AAL/2014/page_130.pdf\n",
      "AAL/2014/page_89.pdf AAL/2014/page_80.pdf\n",
      "AAL/2014/page_92.pdf AAL/2014/page_83.pdf\n",
      "AAL/2014/page_15.pdf AAL/2014/page_16.pdf\n",
      "\n",
      "0.68\n"
     ]
    }
   ],
   "source": [
    "correct = 0\n",
    "for idx in results.index:\n",
    "    if results.loc[idx, \"Correct Documents\"] == results.loc[idx, \"Retrieved Context\"]:\n",
    "        correct += 1\n",
    "    else:\n",
    "        print(results.loc[idx, \"Correct Documents\"], results.loc[idx, \"Retrieved Context\"])\n",
    "\n",
    "print()\n",
    "print(correct / len(results[\"Retrieved Context\"]))"
   ]
  },
  {
   "cell_type": "code",
   "execution_count": null,
   "metadata": {},
   "outputs": [],
   "source": [
    "for idx, row in results.iterrows():\n",
    "    \n",
    "    input_text = row[\"Golden Context\"]\n",
    "    actual_output = row[\"Generated Answer\"]\n",
    "    expected_output = row[\"Correct Answer\"]\n",
    "\n",
    "    test_case = LLMTestCase(\n",
    "        input=input_text,\n",
    "        actual_output=actual_output,\n",
    "        expected_output=expected_output,\n",
    "    )\n",
    "    \n",
    "    correctness_metric.measure(test_case)\n",
    "\n",
    "    results.loc[idx, \"Correctness Score\"] = correctness_metric.score\n",
    "    results.loc[idx, \"Correctness Reasoning\"] = correctness_metric.reason"
   ]
  },
  {
   "cell_type": "code",
   "execution_count": null,
   "metadata": {},
   "outputs": [],
   "source": [
    "results.to_csv(\"eval_colpali.csv\")"
   ]
  },
  {
   "cell_type": "markdown",
   "metadata": {},
   "source": [
    "# Hybrid RAG"
   ]
  },
  {
   "cell_type": "code",
   "execution_count": 21,
   "metadata": {},
   "outputs": [],
   "source": [
    "import pandas as pd"
   ]
  },
  {
   "cell_type": "code",
   "execution_count": 22,
   "metadata": {},
   "outputs": [],
   "source": [
    "vanilla = pd.read_csv(\"eval_vanilla.csv\", index_col=0)"
   ]
  },
  {
   "cell_type": "code",
   "execution_count": 23,
   "metadata": {},
   "outputs": [],
   "source": [
    "colpali = pd.read_csv(\"eval_colpali.csv\", index_col=0)"
   ]
  },
  {
   "cell_type": "code",
   "execution_count": 24,
   "metadata": {},
   "outputs": [
    {
     "data": {
      "text/plain": [
       "0.5483227519398131"
      ]
     },
     "execution_count": 24,
     "metadata": {},
     "output_type": "execute_result"
    }
   ],
   "source": [
    "vanilla[\"Correctness Score\"].mean()"
   ]
  },
  {
   "cell_type": "code",
   "execution_count": 25,
   "metadata": {},
   "outputs": [
    {
     "data": {
      "text/plain": [
       "0.6039156988492254"
      ]
     },
     "execution_count": 25,
     "metadata": {},
     "output_type": "execute_result"
    }
   ],
   "source": [
    "colpali[\"Correctness Score\"].mean()"
   ]
  }
 ],
 "metadata": {
  "kernelspec": {
   "display_name": ".venv",
   "language": "python",
   "name": "python3"
  },
  "language_info": {
   "codemirror_mode": {
    "name": "ipython",
    "version": 3
   },
   "file_extension": ".py",
   "mimetype": "text/x-python",
   "name": "python",
   "nbconvert_exporter": "python",
   "pygments_lexer": "ipython3",
   "version": "3.12.7"
  }
 },
 "nbformat": 4,
 "nbformat_minor": 2
}
