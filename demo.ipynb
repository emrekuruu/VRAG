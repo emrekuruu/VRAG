{
 "cells": [
  {
   "cell_type": "code",
   "execution_count": 11,
   "metadata": {},
   "outputs": [],
   "source": [
    "from PIL import Image\n",
    "from io import BytesIO\n",
    "import base64\n",
    "import os\n",
    "\n",
    "from byaldi import RAGMultiModalModel"
   ]
  },
  {
   "cell_type": "code",
   "execution_count": 12,
   "metadata": {},
   "outputs": [],
   "source": [
    "with open('hf_key.txt', 'r') as file:\n",
    "    hf_key = file.read().strip()\n",
    "\n",
    "os.environ[\"HF_TOKEN\"] = hf_key"
   ]
  },
  {
   "cell_type": "code",
   "execution_count": null,
   "metadata": {},
   "outputs": [
    {
     "name": "stdout",
     "output_type": "stream",
     "text": [
      "Verbosity is set to 1 (active). Pass verbose=0 to make quieter.\n"
     ]
    },
    {
     "name": "stderr",
     "output_type": "stream",
     "text": [
      "Downloading shards:  50%|█████     | 1/2 [00:00<00:00,  5.70it/s]"
     ]
    }
   ],
   "source": [
    "# Optionally, you can specify an `index_root`, which is where it'll save the index. It defaults to \".byaldi/\".\n",
    "RAG = RAGMultiModalModel.from_pretrained(\"vidore/colqwen2-v1.0\")"
   ]
  },
  {
   "cell_type": "code",
   "execution_count": null,
   "metadata": {},
   "outputs": [
    {
     "ename": "NameError",
     "evalue": "name 'RAG' is not defined",
     "output_type": "error",
     "traceback": [
      "\u001b[0;31m---------------------------------------------------------------------------\u001b[0m",
      "\u001b[0;31mNameError\u001b[0m                                 Traceback (most recent call last)",
      "Cell \u001b[0;32mIn[9], line 1\u001b[0m\n\u001b[0;32m----> 1\u001b[0m \u001b[43mRAG\u001b[49m\u001b[38;5;241m.\u001b[39mindex(\n\u001b[1;32m      2\u001b[0m     input_path\u001b[38;5;241m=\u001b[39m\u001b[38;5;124m\"\u001b[39m\u001b[38;5;124mdocs/\u001b[39m\u001b[38;5;124m\"\u001b[39m, \u001b[38;5;66;03m# The path to your documents\u001b[39;00m\n\u001b[1;32m      3\u001b[0m     index_name\u001b[38;5;241m=\u001b[39m\u001b[38;5;124m\"\u001b[39m\u001b[38;5;124mtest\u001b[39m\u001b[38;5;124m\"\u001b[39m, \u001b[38;5;66;03m# The name you want to give to your index. It'll be saved at `index_root/index_name/`.\u001b[39;00m\n\u001b[1;32m      4\u001b[0m     store_collection_with_index\u001b[38;5;241m=\u001b[39m\u001b[38;5;28;01mFalse\u001b[39;00m, \u001b[38;5;66;03m# Whether the index should store the base64 encoded documents.\u001b[39;00m\n\u001b[1;32m      5\u001b[0m     overwrite\u001b[38;5;241m=\u001b[39m\u001b[38;5;28;01mTrue\u001b[39;00m \u001b[38;5;66;03m# Whether to overwrite an index if it already exists. If False, it'll return None and do nothing if `index_root/index_name` exists.\u001b[39;00m\n\u001b[1;32m      6\u001b[0m )\n",
      "\u001b[0;31mNameError\u001b[0m: name 'RAG' is not defined"
     ]
    }
   ],
   "source": [
    "RAG.index(\n",
    "    input_path=\"docs/\", # The path to your documents\n",
    "    index_name=\"test\", # The name you want to give to your index. It'll be saved at `index_root/index_name/`.\n",
    "    store_collection_with_index=False, # Whether the index should store the base64 encoded documents.\n",
    "    overwrite=True # Whether to overwrite an index if it already exists. If False, it'll return None and do nothing if `index_root/index_name` exists.\n",
    ")"
   ]
  },
  {
   "cell_type": "code",
   "execution_count": null,
   "metadata": {},
   "outputs": [],
   "source": [
    "query = \"What is Colpali?\"\n",
    "\n",
    "results = RAG.search(query, k=1)"
   ]
  },
  {
   "cell_type": "code",
   "execution_count": null,
   "metadata": {},
   "outputs": [],
   "source": [
    "# Decode the Base64 image bytes\n",
    "image_bytes = base64.b64decode(results[0].base64)\n",
    "\n",
    "# Open the image from the bytes\n",
    "image = Image.open(BytesIO(image_bytes))\n",
    "\n",
    "# Show the image\n",
    "image.show()"
   ]
  },
  {
   "cell_type": "code",
   "execution_count": null,
   "metadata": {},
   "outputs": [],
   "source": []
  }
 ],
 "metadata": {
  "kernelspec": {
   "display_name": ".venv",
   "language": "python",
   "name": "python3"
  },
  "language_info": {
   "codemirror_mode": {
    "name": "ipython",
    "version": 3
   },
   "file_extension": ".py",
   "mimetype": "text/x-python",
   "name": "python",
   "nbconvert_exporter": "python",
   "pygments_lexer": "ipython3",
   "version": "3.12.7"
  }
 },
 "nbformat": 4,
 "nbformat_minor": 2
}
